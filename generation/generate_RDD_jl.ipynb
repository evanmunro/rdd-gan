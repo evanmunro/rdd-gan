{
 "cells": [
  {
   "cell_type": "markdown",
   "metadata": {
    "colab_type": "text",
    "id": "TbYd_RfxRcvm"
   },
   "source": [
    "### Simulate RDD Data "
   ]
  },
  {
   "cell_type": "markdown",
   "metadata": {
    "colab_type": "text",
    "id": "6qWwhO18Rja6"
   },
   "source": [
    "# Make some choices"
   ]
  },
  {
   "cell_type": "markdown",
   "metadata": {
    "colab_type": "text",
    "id": "qpmre4mJi8hG"
   },
   "source": [
    "Running this cell will define the variables of interest, our hyperparameters and some training options.\n",
    "\n",
    "Make sure your Google Colab runtime has a GPU. You can turn this on via:\n",
    "\n",
    "`Runtime -> Change Runtime type -> Hardware Accelerator -> GPU`"
   ]
  },
  {
   "cell_type": "code",
   "execution_count": 1,
   "metadata": {
    "colab": {},
    "colab_type": "code",
    "id": "rWdPvOVfHTrU"
   },
   "outputs": [
    {
     "data": {
      "text/plain": [
       "<module 'wgan' from '/Users/evanmunro/.pyenv/versions/3.9.1/lib/python3.9/site-packages/wgan/__init__.py'>"
      ]
     },
     "execution_count": 1,
     "metadata": {},
     "output_type": "execute_result"
    }
   ],
   "source": [
    "import wgan\n",
    "import torch\n",
    "import pandas as pd\n",
    "from rdd import rdd \n",
    "import numpy as np\n",
    "import importlib\n",
    "importlib.reload(wgan)\n",
    "#assert torch.cuda.is_available()\n",
    "\n",
    "# T | X "
   ]
  },
  {
   "cell_type": "markdown",
   "metadata": {
    "colab_type": "text",
    "id": "_Vr-KCGIRobm"
   },
   "source": [
    "### Matsudaira data "
   ]
  },
  {
   "cell_type": "code",
   "execution_count": 2,
   "metadata": {},
   "outputs": [
    {
     "data": {
      "text/html": [
       "<div>\n",
       "<style scoped>\n",
       "    .dataframe tbody tr th:only-of-type {\n",
       "        vertical-align: middle;\n",
       "    }\n",
       "\n",
       "    .dataframe tbody tr th {\n",
       "        vertical-align: top;\n",
       "    }\n",
       "\n",
       "    .dataframe thead th {\n",
       "        text-align: right;\n",
       "    }\n",
       "</style>\n",
       "<table border=\"1\" class=\"dataframe\">\n",
       "  <thead>\n",
       "    <tr style=\"text-align: right;\">\n",
       "      <th></th>\n",
       "      <th>z1</th>\n",
       "      <th>z2</th>\n",
       "      <th>x</th>\n",
       "      <th>y</th>\n",
       "    </tr>\n",
       "  </thead>\n",
       "  <tbody>\n",
       "    <tr>\n",
       "      <th>0</th>\n",
       "      <td>2.6</td>\n",
       "      <td>2.2</td>\n",
       "      <td>-0.55</td>\n",
       "      <td>-1.4030</td>\n",
       "    </tr>\n",
       "    <tr>\n",
       "      <th>1</th>\n",
       "      <td>4.2</td>\n",
       "      <td>3.6</td>\n",
       "      <td>0.85</td>\n",
       "      <td>-0.3211</td>\n",
       "    </tr>\n",
       "    <tr>\n",
       "      <th>2</th>\n",
       "      <td>4.1</td>\n",
       "      <td>4.0</td>\n",
       "      <td>1.25</td>\n",
       "      <td>-0.3685</td>\n",
       "    </tr>\n",
       "    <tr>\n",
       "      <th>3</th>\n",
       "      <td>3.3</td>\n",
       "      <td>2.7</td>\n",
       "      <td>-0.05</td>\n",
       "      <td>-1.3479</td>\n",
       "    </tr>\n",
       "    <tr>\n",
       "      <th>4</th>\n",
       "      <td>3.5</td>\n",
       "      <td>3.2</td>\n",
       "      <td>0.45</td>\n",
       "      <td>-0.3211</td>\n",
       "    </tr>\n",
       "  </tbody>\n",
       "</table>\n",
       "</div>"
      ],
      "text/plain": [
       "    z1   z2     x       y\n",
       "0  2.6  2.2 -0.55 -1.4030\n",
       "1  4.2  3.6  0.85 -0.3211\n",
       "2  4.1  4.0  1.25 -0.3685\n",
       "3  3.3  2.7 -0.05 -1.3479\n",
       "4  3.5  3.2  0.45 -0.3211"
      ]
     },
     "execution_count": 2,
     "metadata": {},
     "output_type": "execute_result"
    }
   ],
   "source": [
    "file = \"../data/cleaned/jl_math.csv\"\n",
    "df = pd.read_csv(file)\n",
    "df.head() "
   ]
  },
  {
   "cell_type": "code",
   "execution_count": 3,
   "metadata": {},
   "outputs": [
    {
     "name": "stdout",
     "output_type": "stream",
     "text": [
      "    z1   z2     x       y\n",
      "1  4.2  3.6  0.85 -0.3211\n",
      "2  4.1  4.0  1.25 -0.3685\n",
      "4  3.5  3.2  0.45 -0.3211\n",
      "6  4.0  3.7  0.95  0.6031\n",
      "7  3.7  4.7  0.95 -1.0933\n"
     ]
    }
   ],
   "source": [
    "dfa = df[df['x']>0].copy()#.head(1000)\n",
    "print(dfa.head())\n",
    "\n",
    "dfb = df[df['x']<=0].copy()#.head(1000)\n",
    "\n",
    "#dfs = pd.concat([dfa,dfb],axis=0,ignore_index=True)"
   ]
  },
  {
   "cell_type": "code",
   "execution_count": 5,
   "metadata": {},
   "outputs": [],
   "source": [
    "cd = [128, 128, 128]\n",
    "gd = [128, 128, 128]\n",
    "#penalty=4\n",
    "batch=3000\n",
    "penalty = 5\n",
    "noise = 2\n",
    "dropout = 0.1\n",
    "epochs = 2000\n",
    "steps = 25 \n",
    "copt = torch.optim.Adam\n",
    "gopt = wgan.OAdam\n",
    "epochs = 50 "
   ]
  },
  {
   "cell_type": "markdown",
   "metadata": {},
   "source": [
    "## Generate X jointly "
   ]
  },
  {
   "cell_type": "code",
   "execution_count": 8,
   "metadata": {},
   "outputs": [
    {
     "name": "stdout",
     "output_type": "stream",
     "text": [
      "settings: {'optimizer': <class 'torch.optim.adam.Adam'>, 'critic_d_hidden': [128, 128, 128], 'critic_dropout': 0, 'critic_steps': 25, 'critic_lr': 0.0001, 'critic_gp_factor': 5, 'generator_d_hidden': [128, 128, 128], 'generator_dropout': 0.1, 'generator_lr': 0.0001, 'generator_d_noise': 2, 'generator_optimizer': <class 'wgan.wgan.OAdam'>, 'max_epochs': 50, 'batch_size': 3000, 'test_set_size': 16, 'load_checkpoint': None, 'save_checkpoint': None, 'save_every': 100, 'print_every': 100, 'device': 'cpu'}\n"
     ]
    }
   ],
   "source": [
    "#Generate X alone \n",
    "dwx = wgan.DataWrapper(df,[\"x\"])\n",
    "x,context = dwx.preprocess(df)\n",
    "specs = wgan.Specifications(dwx,\n",
    "                            batch_size=batch, \n",
    "                            max_epochs=50,\n",
    "                            critic_d_hidden=[128,128,128],\n",
    "                            generator_d_hidden=[128, 128, 128],\n",
    "                            generator_d_noise=2, \n",
    "                            critic_gp_factor=penalty, \n",
    "                            optimizer=copt, \n",
    "                            generator_optimizer = gopt, \n",
    "                            critic_steps = steps, \n",
    "                            generator_lr=0.0001, \n",
    "                            critic_lr = 0.0001, \n",
    "                            print_every=100)\n",
    "generatorx = wgan.Generator(specs)\n",
    "criticx = wgan.Critic(specs)"
   ]
  },
  {
   "cell_type": "code",
   "execution_count": 27,
   "metadata": {},
   "outputs": [
    {
     "name": "stdout",
     "output_type": "stream",
     "text": [
      "epoch 0 | step 25 | WD_test 0.11 | WD_train 0.13 | sec passed 1 |\n"
     ]
    }
   ],
   "source": [
    "wgan.train(generatorx, criticx, x, context, specs)"
   ]
  },
  {
   "cell_type": "markdown",
   "metadata": {},
   "source": [
    "## Generate Y|X above and below the cutoff "
   ]
  },
  {
   "cell_type": "code",
   "execution_count": 30,
   "metadata": {
    "colab": {
     "base_uri": "https://localhost:8080/",
     "height": 54
    },
    "colab_type": "code",
    "id": "pBAlErpjurK6",
    "outputId": "66d93627-9cc5-48c7-95e4-fafb0931aafa"
   },
   "outputs": [
    {
     "name": "stdout",
     "output_type": "stream",
     "text": [
      "settings: {'optimizer': <class 'torch.optim.adam.Adam'>, 'critic_d_hidden': [128, 128, 128], 'critic_dropout': 0, 'critic_steps': 25, 'critic_lr': 0.0001, 'critic_gp_factor': 5, 'generator_d_hidden': [128, 128, 128], 'generator_dropout': 0.1, 'generator_lr': 0.0001, 'generator_d_noise': 2, 'generator_optimizer': <class 'wgan.wgan.OAdam'>, 'max_epochs': 150, 'batch_size': 3000, 'test_set_size': 16, 'load_checkpoint': None, 'save_checkpoint': None, 'save_every': 100, 'print_every': 100, 'device': 'cpu'}\n",
      "[tensor([[-1.0376]]), tensor([[2.8055, 2.1955]])]\n",
      "[tensor([[0.8038]]), tensor([[0.6458, 0.6234]])]\n",
      "settings: {'optimizer': <class 'torch.optim.adam.Adam'>, 'critic_d_hidden': [128, 128, 128], 'critic_dropout': 0, 'critic_steps': 25, 'critic_lr': 0.0001, 'critic_gp_factor': 5, 'generator_d_hidden': [128, 128, 128], 'generator_dropout': 0.1, 'generator_lr': 0.0001, 'generator_d_noise': 2, 'generator_optimizer': <class 'wgan.wgan.OAdam'>, 'max_epochs': 150, 'batch_size': 3000, 'test_set_size': 16, 'load_checkpoint': None, 'save_checkpoint': None, 'save_every': 100, 'print_every': 100, 'device': 'cpu'}\n"
     ]
    }
   ],
   "source": [
    "#Generate Y | X, above and below cutoff \n",
    "#smaller batch size of 500 \n",
    "\n",
    "dwya = wgan.DataWrapper(dfa,[\"y\"],context_vars=[\"x\"])\n",
    "xa, contexta = dwya.preprocess(dfa)\n",
    "specsa  = wgan.Specifications(dwya,\n",
    "                              batch_size=batch, \n",
    "                            max_epochs=150,\n",
    "                            critic_d_hidden=[128,128,128],\n",
    "                            generator_d_hidden=[128, 128, 128],\n",
    "                            generator_d_noise=2, \n",
    "                            critic_gp_factor=penalty, \n",
    "                            optimizer=copt, \n",
    "                            generator_optimizer = gopt, \n",
    "                            critic_steps = steps, \n",
    "                            generator_lr=0.0001, \n",
    "                            critic_lr = 0.0001, \n",
    "                            print_every=100)\n",
    "\n",
    "#above cutoff\n",
    "generatorya = wgan.Generator(specsa)\n",
    "criticya = wgan.Critic(specsa)\n",
    "\n",
    "dwyb = wgan.DataWrapper(dfb,[\"y\"],context_vars=[\"z1\",\"z2\"])\n",
    "print(dwyb.means)\n",
    "print(dwyb.stds) \n",
    "#below cutoff \n",
    "specsb  = wgan.Specifications(dwyb,\n",
    "                              batch_size=batch, \n",
    "                            max_epochs=150,\n",
    "                            critic_d_hidden=[128,128,128],\n",
    "                            generator_d_hidden=[128, 128, 128],\n",
    "                            generator_d_noise=2, \n",
    "                            critic_gp_factor=penalty, \n",
    "                            optimizer=copt, \n",
    "                            generator_optimizer = gopt, \n",
    "                            critic_steps = steps, \n",
    "                            generator_lr=0.0001, \n",
    "                            critic_lr = 0.0001, \n",
    "                            print_every=100)\n",
    "xb,contextb = dwyb.preprocess(dfb)\n",
    "generatoryb = wgan.Generator(specsb)\n",
    "criticyb = wgan.Critic(specsb)"
   ]
  },
  {
   "cell_type": "code",
   "execution_count": null,
   "metadata": {},
   "outputs": [
    {
     "name": "stdout",
     "output_type": "stream",
     "text": [
      "epoch 0 | step 11 | WD_test 0.05 | WD_train 0.01 | sec passed 1 |\n"
     ]
    }
   ],
   "source": [
    "wgan.train(generatoryb, criticyb, xb, contextb, specsb)\n",
    "wgan.train(generatorya, criticya, xa, contexta, specsa)"
   ]
  },
  {
   "cell_type": "markdown",
   "metadata": {},
   "source": [
    "## Test Generated Data "
   ]
  },
  {
   "cell_type": "code",
   "execution_count": 19,
   "metadata": {},
   "outputs": [],
   "source": [
    "def apply_models(df): \n",
    "    s = dwx.apply_generator(generatorx,df)\n",
    "    #s[\"x\"] = s[[\"z1\",\"z2\"]].min(axis=1)-2.75\n",
    "    print(s.head())\n",
    "    #s['w'] = s['x']<0 \n",
    "    sa = s[s['x']>0]\n",
    "    sb = s[s['x']<=0] \n",
    "   # sa = dwya.apply_generator(generatorya,sa) \n",
    "   # sb = dwyb.apply_generator(generatoryb,sb)\n",
    "   \n",
    "    return pd.concat([sa,sb],axis=0,ignore_index=True)\n",
    "\n",
    "def apply_below(dfb): \n",
    "    print(dwyb.means) \n",
    "    dfb = dwyb.apply_generator(generatoryb,dfb)\n",
    "    return dfb \n",
    "\n",
    "def apply_above(dfa): \n",
    "    dfa = dwya.apply_generator(generatorya,dfa)\n",
    "    return dfa "
   ]
  },
  {
   "cell_type": "code",
   "execution_count": 11,
   "metadata": {},
   "outputs": [
    {
     "data": {
      "text/html": [
       "<div>\n",
       "<style scoped>\n",
       "    .dataframe tbody tr th:only-of-type {\n",
       "        vertical-align: middle;\n",
       "    }\n",
       "\n",
       "    .dataframe tbody tr th {\n",
       "        vertical-align: top;\n",
       "    }\n",
       "\n",
       "    .dataframe thead th {\n",
       "        text-align: right;\n",
       "    }\n",
       "</style>\n",
       "<table border=\"1\" class=\"dataframe\">\n",
       "  <thead>\n",
       "    <tr style=\"text-align: right;\">\n",
       "      <th></th>\n",
       "      <th>z1</th>\n",
       "      <th>z2</th>\n",
       "      <th>x</th>\n",
       "      <th>y</th>\n",
       "    </tr>\n",
       "  </thead>\n",
       "  <tbody>\n",
       "    <tr>\n",
       "      <th>0</th>\n",
       "      <td>2.6</td>\n",
       "      <td>2.2</td>\n",
       "      <td>-0.55</td>\n",
       "      <td>-1.4030</td>\n",
       "    </tr>\n",
       "    <tr>\n",
       "      <th>1</th>\n",
       "      <td>4.2</td>\n",
       "      <td>3.6</td>\n",
       "      <td>0.85</td>\n",
       "      <td>-0.3211</td>\n",
       "    </tr>\n",
       "    <tr>\n",
       "      <th>2</th>\n",
       "      <td>4.1</td>\n",
       "      <td>4.0</td>\n",
       "      <td>1.25</td>\n",
       "      <td>-0.3685</td>\n",
       "    </tr>\n",
       "    <tr>\n",
       "      <th>3</th>\n",
       "      <td>3.3</td>\n",
       "      <td>2.7</td>\n",
       "      <td>-0.05</td>\n",
       "      <td>-1.3479</td>\n",
       "    </tr>\n",
       "    <tr>\n",
       "      <th>4</th>\n",
       "      <td>3.5</td>\n",
       "      <td>3.2</td>\n",
       "      <td>0.45</td>\n",
       "      <td>-0.3211</td>\n",
       "    </tr>\n",
       "  </tbody>\n",
       "</table>\n",
       "</div>"
      ],
      "text/plain": [
       "    z1   z2     x       y\n",
       "0  2.6  2.2 -0.55 -1.4030\n",
       "1  4.2  3.6  0.85 -0.3211\n",
       "2  4.1  4.0  1.25 -0.3685\n",
       "3  3.3  2.7 -0.05 -1.3479\n",
       "4  3.5  3.2  0.45 -0.3211"
      ]
     },
     "execution_count": 11,
     "metadata": {},
     "output_type": "execute_result"
    }
   ],
   "source": [
    "df.head()"
   ]
  },
  {
   "cell_type": "code",
   "execution_count": 28,
   "metadata": {},
   "outputs": [
    {
     "name": "stdout",
     "output_type": "stream",
     "text": [
      "  source   z1   z2         x       y\n",
      "0   real  2.6  2.2 -0.294668 -1.4030\n",
      "1   real  4.2  3.6 -0.751225 -0.3211\n",
      "2   real  4.1  4.0  3.089581 -0.3685\n",
      "3   real  3.3  2.7 -0.062392 -1.3479\n",
      "4   real  3.5  3.2  1.333494 -0.3211\n"
     ]
    },
    {
     "data": {
      "text/plain": [
       "<matplotlib.collections.PathCollection at 0x141a86910>"
      ]
     },
     "execution_count": 28,
     "metadata": {},
     "output_type": "execute_result"
    },
    {
     "data": {
      "image/png": "[encoded data removed]",
      "text/plain": [
       "<Figure size 432x288 with 1 Axes>"
      ]
     },
     "metadata": {
      "needs_background": "light"
     },
     "output_type": "display_data"
    },
    {
     "data": {
      "image/png": "[encoded data removed]",
      "text/plain": [
       "<Figure size 432x288 with 1 Axes>"
      ]
     },
     "metadata": {
      "needs_background": "light"
     },
     "output_type": "display_data"
    }
   ],
   "source": [
    "import matplotlib.pyplot as plt\n",
    "df_fake = apply_models(df)\n",
    "#df_fake = apply_joint(dfa,dfb)\n",
    "df_fa = df_fake[df_fake['x']>0] \n",
    "df_fb = df_fake[df_fake['x']<=0] \n",
    "#df_fb = apply_below(dfb) \n",
    "#df_fa = apply_above(dfa) \n",
    "\n",
    "fig=plt.figure() \n",
    "ax=fig.add_axes([0,0,1,1])\n",
    "ax.scatter(dfa['x'].sample(1000),dfa['y'].sample(1000), color='r')\n",
    "ax.scatter(dfb['x'].sample(1000),dfb['y'].sample(1000), color='b')\n",
    "\n",
    "fig2=plt.figure() \n",
    "ax=fig2.add_axes([0,0,1,1])\n",
    "ax.scatter(df_fa['x'].sample(1000),df_fa['y'].sample(1000), color='r')\n",
    "ax.scatter(df_fb['x'].sample(1000),df_fb['y'].sample(1000), color='b')\n"
   ]
  },
  {
   "cell_type": "code",
   "execution_count": 19,
   "metadata": {},
   "outputs": [
    {
     "name": "stdout",
     "output_type": "stream",
     "text": [
      "1.2880649122459296\n",
      "Estimation Equation:\t y ~ TREATED + x\n"
     ]
    },
    {
     "data": {
      "text/plain": [
       "-1.0556792343184291"
      ]
     },
     "execution_count": 19,
     "metadata": {},
     "output_type": "execute_result"
    }
   ],
   "source": [
    "rdd_estimate(df_fake.sample(7000))"
   ]
  },
  {
   "cell_type": "code",
   "execution_count": 18,
   "metadata": {},
   "outputs": [
    {
     "name": "stdout",
     "output_type": "stream",
     "text": [
      "0.845730843547923\n",
      "Estimation Equation:\t y ~ TREATED + x\n"
     ]
    },
    {
     "data": {
      "text/plain": [
       "-0.1425750348914838"
      ]
     },
     "execution_count": 18,
     "metadata": {},
     "output_type": "execute_result"
    }
   ],
   "source": [
    "rdd_estimate(df.sample(8000))"
   ]
  },
  {
   "cell_type": "code",
   "execution_count": 267,
   "metadata": {},
   "outputs": [],
   "source": [
    "def rdd_fuzzy(data,h):\n",
    "    data = data[data[\"x\"].abs()<=h]\n",
    "    da = data[data['x']>0]\n",
    "    db = data[data['x']<=0]\n",
    "    denom = da['y'].mean() - db['y'].mean()\n",
    "    num = da['t'].mean() - db['t'].mean() \n",
    "    print(denom)\n",
    "    print(num)\n",
    "    est = (da['y'].mean() - db['y'].mean())/(da['t'].mean() - db['t'].mean())\n",
    "    return est "
   ]
  },
  {
   "cell_type": "markdown",
   "metadata": {
    "colab_type": "text",
    "id": "O20NAjXC3Zws"
   },
   "source": [
    "Finally, we can examine our generated data with the `compare_dfs` function.\n"
   ]
  },
  {
   "cell_type": "code",
   "execution_count": 15,
   "metadata": {},
   "outputs": [],
   "source": [
    "def rdd_estimate(data):\n",
    "    bandwidth_opt = rdd.optimal_bandwidth(data['y'], data['x'], cut=0) \n",
    "    print(bandwidth_opt)\n",
    "    data_rdd = rdd.truncated_data(data, 'x', bandwidth_opt, cut=0) \n",
    "    model = rdd.rdd(data_rdd, 'x', 'y', cut=0)\n",
    "    return model.fit().params[1]"
   ]
  },
  {
   "cell_type": "code",
   "execution_count": 9,
   "metadata": {},
   "outputs": [],
   "source": [
    "# Option 2: load trained model parameters\n",
    "def load_saved_parameters(type):\n",
    "    for model, name in zip([generatorx, criticx,\n",
    "                          generatorya, criticya,\n",
    "                          generatoryb, criticyb],\n",
    "                         [\"Gx\",\"Cx\",\"Gya\",\"Cya\",\"Gyb\",\"Cyb\"]):\n",
    "        state_dict = torch.load(\"../trained_models/\" + name + \"_{}.pth\".format(type))\n",
    "        model.load_state_dict(state_dict)\n",
    "\n",
    "load_saved_parameters(\"jl_math\")"
   ]
  },
  {
   "cell_type": "code",
   "execution_count": 25,
   "metadata": {
    "colab": {},
    "colab_type": "code",
    "id": "8V6ds_a7RMzY"
   },
   "outputs": [],
   "source": [
    "def evaluate_results():\n",
    "  # Let's print the att!\n",
    "  print(\"--------------------RDD--------------------\")\n",
    "  #print(\"real:\",rdd_estimate(df)) \n",
    "  #print(\"fake:\",rdd_estimate(df_fake))\n",
    "\n",
    "  # Now, we'll compare our fake data to the real data\n",
    "  table_groupby = [\"t\"]\n",
    "  scatterplot = dict(x= [\"x\"],\n",
    "                     y= [\"y\"],\n",
    "                     samples = 5000, smooth = 1)\n",
    "  histogram = dict(variables=['x','y','z1','z2'],\n",
    "                   nrow=2, ncol=2)\n",
    "  wgan.compare_dfs(df, df_fake, figsize=5, histogram=histogram, scatterplot=scatterplot)\n"
   ]
  },
  {
   "cell_type": "code",
   "execution_count": 29,
   "metadata": {
    "colab": {
     "base_uri": "https://localhost:8080/",
     "height": 1000
    },
    "colab_type": "code",
    "id": "U1aEaBrz28Xv",
    "outputId": "cfec271e-09df-4e47-8de3-c94fa0c46f12"
   },
   "outputs": [
    {
     "name": "stdout",
     "output_type": "stream",
     "text": [
      "--------------------RDD--------------------\n",
      "-------------comparison of means-------------\n",
      "source  fake  real\n",
      "z1      3.54  3.54\n",
      "z2      3.13  3.13\n",
      "x       0.13  0.23\n",
      "y      -0.44 -0.44\n",
      "-------------comparison of stds-------------\n",
      "source  fake  real\n",
      "z1      0.95  0.95\n",
      "z2      1.09  1.09\n",
      "x       0.94  0.98\n",
      "y       0.98  0.98\n"
     ]
    },
    {
     "name": "stderr",
     "output_type": "stream",
     "text": [
      "/Users/evanmunro/.pyenv/versions/3.9.1/lib/python3.9/site-packages/wgan/wgan.py:670: UserWarning: Matplotlib is currently using module://ipykernel.pylab.backend_inline, which is a non-GUI backend, so cannot show the figure.\n",
      "  fig2.show()\n",
      "/Users/evanmunro/.pyenv/versions/3.9.1/lib/python3.9/site-packages/wgan/wgan.py:702: UserWarning: Matplotlib is currently using module://ipykernel.pylab.backend_inline, which is a non-GUI backend, so cannot show the figure.\n",
      "  fig3.show()\n"
     ]
    },
    {
     "data": {
      "image/png": "[encoded data removed]",
      "text/plain": [
       "<Figure size 720x360 with 2 Axes>"
      ]
     },
     "metadata": {
      "needs_background": "light"
     },
     "output_type": "display_data"
    },
    {
     "data": {
      "image/png": "[encoded data removed]",
      "text/plain": [
       "<Figure size 720x720 with 4 Axes>"
      ]
     },
     "metadata": {
      "needs_background": "light"
     },
     "output_type": "display_data"
    },
    {
     "data": {
      "image/png": "[encoded data removed]",
      "text/plain": [
       "<Figure size 360x360 with 1 Axes>"
      ]
     },
     "metadata": {
      "needs_background": "light"
     },
     "output_type": "display_data"
    }
   ],
   "source": [
    "evaluate_results()"
   ]
  },
  {
   "cell_type": "markdown",
   "metadata": {
    "colab_type": "text",
    "id": "yvccbLta8zAi"
   },
   "source": [
    "Looks good enough? Then save the models, generate a large dataframe and export it."
   ]
  },
  {
   "cell_type": "code",
   "execution_count": 33,
   "metadata": {
    "colab": {},
    "colab_type": "code",
    "id": "wM1LhyLG99po"
   },
   "outputs": [],
   "source": [
    "# save trained model parameters\n",
    "def save_trained_parameters(type):\n",
    "  #%mkdir trained_models\n",
    "  for model, name in zip([generatorx, criticx,\n",
    "                          generatorya, criticya,\n",
    "                          generatoryb, criticyb  \n",
    "                                              ], \n",
    "                         [\"Gx\",\"Cx\",\"Gya\",\"Cya\",\"Gyb\",\"Cyb\"]):\n",
    "    torch.save(model.state_dict(), \"trained_models/\" + name + \"_{}.pth\".format(type))"
   ]
  },
  {
   "cell_type": "code",
   "execution_count": 34,
   "metadata": {
    "colab": {},
    "colab_type": "code",
    "id": "TyfDEFycRHZ3"
   },
   "outputs": [],
   "source": [
    "save_trained_parameters(\"jl_math\")"
   ]
  },
  {
   "cell_type": "code",
   "execution_count": 18,
   "metadata": {
    "colab": {},
    "colab_type": "code",
    "id": "aXTqCRL688Zw"
   },
   "outputs": [],
   "source": [
    "# generate and save data of a certain sample size\n",
    "def save_generated_data(type,n):\n",
    "    s = df.sample(int(n),replace=True)\n",
    "    df_fake = apply_models(s)\n",
    "    df_fake.to_feather(\"data/generated/{}_generated.feather\".format(type))"
   ]
  },
  {
   "cell_type": "code",
   "execution_count": 300,
   "metadata": {},
   "outputs": [
    {
     "data": {
      "text/plain": [
       "47589"
      ]
     },
     "execution_count": 300,
     "metadata": {},
     "output_type": "execute_result"
    }
   ],
   "source": [
    "dfa.shape[0]"
   ]
  },
  {
   "cell_type": "code",
   "execution_count": 35,
   "metadata": {
    "colab": {},
    "colab_type": "code",
    "id": "Lj8mrJfERiKX"
   },
   "outputs": [
    {
     "name": "stdout",
     "output_type": "stream",
     "text": [
      "  source        z1        z2         x       y\n",
      "0   real  2.980183  2.487857 -0.262143  0.7379\n",
      "1   real  4.551961  3.194024  0.444024 -0.4297\n",
      "2   real  3.893134  2.749398 -0.000602  0.7741\n",
      "3   real  4.538335  3.909431  1.159431 -1.4694\n",
      "4   real  4.502318  3.869498  1.119498 -1.2200\n"
     ]
    }
   ],
   "source": [
    "save_generated_data(\"jl_math\",10000000)"
   ]
  },
  {
   "cell_type": "markdown",
   "metadata": {
    "colab_type": "text",
    "id": "BaLtw7QN7UWu"
   },
   "source": [
    "### Generating Figures"
   ]
  },
  {
   "cell_type": "code",
   "execution_count": 401,
   "metadata": {},
   "outputs": [],
   "source": [
    "gen_data1 = df_fake[df_fake[\"x\"]>0].copy()\n",
    "real_data1 = df[df[\"x\"]>0].copy() \n",
    "\n",
    "gen_data2 = df_fake[df_fake[\"x\"]<=0].copy()\n",
    "real_data2 = df[df[\"x\"]<=0].copy() "
   ]
  },
  {
   "cell_type": "code",
   "execution_count": 403,
   "metadata": {},
   "outputs": [
    {
     "data": {
      "image/png": "[encoded data removed]",
      "text/plain": [
       "<Figure size 720x288 with 2 Axes>"
      ]
     },
     "metadata": {
      "needs_background": "light"
     },
     "output_type": "display_data"
    }
   ],
   "source": [
    "fig1, axarr = plt.subplots(1,2,figsize=(10, 4))\n",
    "axarr[0].hist([real_data1[\"y\"],gen_data1[\"y\"]], bins=8, density=1,\n",
    "                histtype='bar', label=[\"real\", \"fake\"], color=[\"blue\", \"red\"])\n",
    "axarr[1].hist([real_data2[\"y\"],gen_data2[\"y\"]],bins=9,density=1,histtype='bar',\n",
    "                  label=[\"real\",\"fake\"], color=[\"blue\",\"red\"])\n",
    "axarr[0].legend(prop={\"size\": 10})\n",
    "axarr[0].set_title(\"y | x>0\")\n",
    "\n",
    "axarr[1].legend(prop={\"size\": 10})\n",
    "axarr[1].set_title(\"y | x<=0 \")\n",
    "fig1.savefig(\"y_splithist.pdf\")"
   ]
  },
  {
   "cell_type": "code",
   "execution_count": 404,
   "metadata": {},
   "outputs": [
    {
     "data": {
      "image/png": "[encoded data removed]",
      "text/plain": [
       "<Figure size 720x288 with 2 Axes>"
      ]
     },
     "metadata": {
      "needs_background": "light"
     },
     "output_type": "display_data"
    }
   ],
   "source": [
    "fig2, axarr = plt.subplots(1,2,figsize=(10, 4))\n",
    "axarr[0].hist([df[\"y\"],df_fake[\"y\"]], bins=8, density=1,\n",
    "                histtype='bar', label=[\"real\", \"fake\"], color=[\"blue\", \"red\"])\n",
    "axarr[1].hist([df[\"x\"],df_fake[\"x\"]],bins=9,density=1,histtype='bar',\n",
    "                  label=[\"real\",\"fake\"], color=[\"blue\",\"red\"])\n",
    "axarr[0].legend(prop={\"size\": 10})\n",
    "axarr[0].set_title(\"y\")\n",
    "\n",
    "axarr[1].legend(prop={\"size\": 10})\n",
    "axarr[1].set_title(\"x \")\n",
    "fig2.savefig(\"uncond_hist.pdf\")"
   ]
  },
  {
   "cell_type": "code",
   "execution_count": null,
   "metadata": {},
   "outputs": [],
   "source": [
    "fig=plt.figure() \n",
    "ax=fig.add_axes([0,0,1,1])\n",
    "ax.scatter(context2b.numpy(),x2b.numpy(), color='b')\n",
    "ax.scatter(context2a.numpy(),x2a.numpy(), color='r')\n",
    "\n",
    "\n",
    "fig=plt.figure() \n",
    "ax=fig.add_axes([0,0,1,1])\n",
    "ax.scatter(dfa['x'],dfa['y'], color='r')\n",
    "ax.scatter(dfb['x'],dfb['y'], color='b')\n",
    "\n",
    "u_da = data_wrapper2.deprocess(x2a,context2a)\n",
    "u_db = data_wrapper2.deprocess(x2b,context2b)\n",
    "\n",
    "fig=plt.figure() \n",
    "ax=fig.add_axes([0,0,1,1])\n",
    "ax.scatter(u_da['x'],u_da['y'], color='r')\n",
    "ax.scatter(u_db['x'],u_db['y'], color='b')\n",
    "\n"
   ]
  },
  {
   "cell_type": "markdown",
   "metadata": {},
   "source": [
    "## Generate joint"
   ]
  },
  {
   "cell_type": "code",
   "execution_count": null,
   "metadata": {},
   "outputs": [],
   "source": [
    "dwj = wgan.DataWrapper(dfs,[\"y\"],context_vars=[\"x\"])\n",
    "specs  = wgan.Specifications(dwj,\n",
    "                              batch_size=500,\n",
    "                              max_epochs=500,\n",
    "                              generator_d_noise=3,\n",
    "                              critic_d_hidden=[128,128,128],\n",
    "                              generator_d_hidden=[64,64,64],\n",
    "                              critic_gp_factor=5, \n",
    "                              print_every=100,\n",
    "                              generator_dropout=dropout)\n",
    "x,context = dwj.preprocess(dfs)\n",
    "generatorj = wgan.Generator(specs)\n",
    "criticj = wgan.Critic(specs)"
   ]
  }
 ],
 "metadata": {
  "accelerator": "GPU",
  "colab": {
   "collapsed_sections": [],
   "machine_shape": "hm",
   "name": "RDD_tutorial.ipynb",
   "provenance": []
  },
  "kernelspec": {
   "display_name": "Python 3",
   "language": "python",
   "name": "python3"
  },
  "language_info": {
   "codemirror_mode": {
    "name": "ipython",
    "version": 3
   },
   "file_extension": ".py",
   "mimetype": "text/x-python",
   "name": "python",
   "nbconvert_exporter": "python",
   "pygments_lexer": "ipython3",
   "version": "3.9.1"
  }
 },
 "nbformat": 4,
 "nbformat_minor": 1
}
