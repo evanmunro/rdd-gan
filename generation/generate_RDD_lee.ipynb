{
 "cells": [
  {
   "cell_type": "markdown",
   "metadata": {
    "colab_type": "text",
    "id": "TbYd_RfxRcvm"
   },
   "source": [
    "### Simulate RDD Data "
   ]
  },
  {
   "cell_type": "markdown",
   "metadata": {
    "colab_type": "text",
    "id": "6qWwhO18Rja6"
   },
   "source": [
    "# Make some choices"
   ]
  },
  {
   "cell_type": "markdown",
   "metadata": {
    "colab_type": "text",
    "id": "qpmre4mJi8hG"
   },
   "source": [
    "Running this cell will define the variables of interest, our hyperparameters and some training options.\n",
    "\n",
    "Make sure your Google Colab runtime has a GPU. You can turn this on via:\n",
    "\n",
    "`Runtime -> Change Runtime type -> Hardware Accelerator -> GPU`"
   ]
  },
  {
   "cell_type": "code",
   "execution_count": 214,
   "metadata": {
    "colab": {},
    "colab_type": "code",
    "id": "rWdPvOVfHTrU"
   },
   "outputs": [],
   "source": [
    "import wgan\n",
    "import torch\n",
    "import pandas as pd\n",
    "from rdd import rdd\n",
    "import numpy as np\n",
    "import importlib\n",
    "importlib.reload(wgan)\n",
    "#assert torch.cuda.is_available()\n",
    "\n",
    "#Generate X\n",
    "cont1 = [\"x\"] \n",
    "# Y | X \n",
    "cont2 = [\"y\"] \n",
    "text2 = [\"x\"] \n",
    "\n",
    "# \n",
    "\n",
    "lbound1 = {\"x\": -1}\n",
    "ubound1 = {\"x\": 1} \n",
    "lbound2 = {\"y\": 0}\n",
    "ubound2 = {\"y\": 1}\n",
    "\n",
    "# T | X "
   ]
  },
  {
   "cell_type": "markdown",
   "metadata": {
    "colab_type": "text",
    "id": "_Vr-KCGIRobm"
   },
   "source": [
    "### Lee data"
   ]
  },
  {
   "cell_type": "code",
   "execution_count": 55,
   "metadata": {},
   "outputs": [
    {
     "data": {
      "text/html": [
       "<div>\n",
       "<style scoped>\n",
       "    .dataframe tbody tr th:only-of-type {\n",
       "        vertical-align: middle;\n",
       "    }\n",
       "\n",
       "    .dataframe tbody tr th {\n",
       "        vertical-align: top;\n",
       "    }\n",
       "\n",
       "    .dataframe thead th {\n",
       "        text-align: right;\n",
       "    }\n",
       "</style>\n",
       "<table border=\"1\" class=\"dataframe\">\n",
       "  <thead>\n",
       "    <tr style=\"text-align: right;\">\n",
       "      <th></th>\n",
       "      <th>x</th>\n",
       "      <th>y</th>\n",
       "    </tr>\n",
       "  </thead>\n",
       "  <tbody>\n",
       "    <tr>\n",
       "      <th>0</th>\n",
       "      <td>0.104870</td>\n",
       "      <td>0.580962</td>\n",
       "    </tr>\n",
       "    <tr>\n",
       "      <th>1</th>\n",
       "      <td>0.139252</td>\n",
       "      <td>0.461058</td>\n",
       "    </tr>\n",
       "    <tr>\n",
       "      <th>2</th>\n",
       "      <td>-0.073602</td>\n",
       "      <td>0.543411</td>\n",
       "    </tr>\n",
       "    <tr>\n",
       "      <th>3</th>\n",
       "      <td>0.086821</td>\n",
       "      <td>0.584580</td>\n",
       "    </tr>\n",
       "    <tr>\n",
       "      <th>4</th>\n",
       "      <td>0.399358</td>\n",
       "      <td>0.580286</td>\n",
       "    </tr>\n",
       "    <tr>\n",
       "      <th>...</th>\n",
       "      <td>...</td>\n",
       "      <td>...</td>\n",
       "    </tr>\n",
       "    <tr>\n",
       "      <th>6553</th>\n",
       "      <td>0.524030</td>\n",
       "      <td>0.808786</td>\n",
       "    </tr>\n",
       "    <tr>\n",
       "      <th>6554</th>\n",
       "      <td>1.000000</td>\n",
       "      <td>1.000000</td>\n",
       "    </tr>\n",
       "    <tr>\n",
       "      <th>6555</th>\n",
       "      <td>1.000000</td>\n",
       "      <td>0.760513</td>\n",
       "    </tr>\n",
       "    <tr>\n",
       "      <th>6556</th>\n",
       "      <td>0.015699</td>\n",
       "      <td>0.271370</td>\n",
       "    </tr>\n",
       "    <tr>\n",
       "      <th>6557</th>\n",
       "      <td>-0.198213</td>\n",
       "      <td>0.801953</td>\n",
       "    </tr>\n",
       "  </tbody>\n",
       "</table>\n",
       "<p>6558 rows × 2 columns</p>\n",
       "</div>"
      ],
      "text/plain": [
       "             x         y\n",
       "0     0.104870  0.580962\n",
       "1     0.139252  0.461058\n",
       "2    -0.073602  0.543411\n",
       "3     0.086821  0.584580\n",
       "4     0.399358  0.580286\n",
       "...        ...       ...\n",
       "6553  0.524030  0.808786\n",
       "6554  1.000000  1.000000\n",
       "6555  1.000000  0.760513\n",
       "6556  0.015699  0.271370\n",
       "6557 -0.198213  0.801953\n",
       "\n",
       "[6558 rows x 2 columns]"
      ]
     },
     "execution_count": 55,
     "metadata": {},
     "output_type": "execute_result"
    }
   ],
   "source": [
    "df.drop(columns=[\"source\"])"
   ]
  },
  {
   "cell_type": "code",
   "execution_count": 242,
   "metadata": {
    "colab": {
     "base_uri": "https://localhost:8080/",
     "height": 54
    },
    "colab_type": "code",
    "id": "pBAlErpjurK6",
    "outputId": "66d93627-9cc5-48c7-95e4-fafb0931aafa"
   },
   "outputs": [
    {
     "name": "stdout",
     "output_type": "stream",
     "text": [
      "          x         y\n",
      "0  0.104870  0.580962\n",
      "1  0.139252  0.461058\n",
      "3  0.086821  0.584580\n",
      "4  0.399358  0.580286\n",
      "5  0.168077  0.624352\n",
      "settings: {'optimizer': <class 'torch.optim.adam.Adam'>, 'critic_d_hidden': [128, 128, 128], 'critic_dropout': 0, 'critic_steps': 25, 'critic_lr': 0.0001, 'critic_gp_factor': 5, 'generator_d_hidden': [128, 128, 128], 'generator_dropout': 0.1, 'generator_lr': 0.0001, 'generator_d_noise': 2, 'generator_optimizer': <class 'wgan.wgan.OAdam'>, 'max_epochs': 2000, 'batch_size': 64, 'test_set_size': 16, 'load_checkpoint': None, 'save_checkpoint': None, 'save_every': 100, 'print_every': 100, 'device': 'cpu'}\n",
      "settings: {'optimizer': <class 'torch.optim.adam.Adam'>, 'critic_d_hidden': [128, 128, 128], 'critic_dropout': 0, 'critic_steps': 25, 'critic_lr': 0.0001, 'critic_gp_factor': 5, 'generator_d_hidden': [128, 128, 128], 'generator_dropout': 0.1, 'generator_lr': 0.0001, 'generator_d_noise': 2, 'generator_optimizer': <class 'wgan.wgan.OAdam'>, 'max_epochs': 2000, 'batch_size': 64, 'test_set_size': 16, 'load_checkpoint': None, 'save_checkpoint': None, 'save_every': 100, 'print_every': 100, 'device': 'cpu'}\n",
      "settings: {'optimizer': <class 'torch.optim.adam.Adam'>, 'critic_d_hidden': [128, 128, 128], 'critic_dropout': 0, 'critic_steps': 25, 'critic_lr': 0.0001, 'critic_gp_factor': 5, 'generator_d_hidden': [128, 128, 128], 'generator_dropout': 0.1, 'generator_lr': 0.0001, 'generator_d_noise': 2, 'generator_optimizer': <class 'wgan.wgan.OAdam'>, 'max_epochs': 2000, 'batch_size': 64, 'test_set_size': 16, 'load_checkpoint': None, 'save_checkpoint': None, 'save_every': 100, 'print_every': 100, 'device': 'cpu'}\n"
     ]
    }
   ],
   "source": [
    "file = \"../data/cleaned/lee.csv\"\n",
    "df = pd.read_csv(file)\n",
    "\n",
    "dfa = df[df['x']>0].copy()\n",
    "print(dfa.head())\n",
    "\n",
    "dfb = df[df['x']<=0].copy()\n",
    "#d= [64,64,64]\n",
    "#dc=[128,128,128]\n",
    "g_lr = 1e-4\n",
    "c_lr = 1e-4\n",
    "bsize = 64\n",
    "opt = wgan.OAdam\n",
    "g_opt = wgan.OAdam\n",
    "cd = [128, 128, 128]\n",
    "gd = [128, 128, 128]\n",
    "factor = 5\n",
    "noise = 2\n",
    "dropout = 0.1\n",
    "epochs = 2000\n",
    "steps = 25 \n",
    "\n",
    "#oadam/oadam with batch size of 64 worked not bad \n",
    "\n",
    "data_wrapper1 = wgan.DataWrapper(df, cont1, continuous_lower_bounds=lbound1,\n",
    "                                              continuous_upper_bounds=ubound1)\n",
    "x1,context1 = data_wrapper1.preprocess(df)\n",
    "specs1 = wgan.Specifications(data_wrapper1,\n",
    "                             batch_size=bsize,\n",
    "                             max_epochs=epochs,\n",
    "                             optimizer= torch.optim.Adam, \n",
    "                             generator_optimizer = wgan.OAdam, \n",
    "                             critic_lr=c_lr, \n",
    "                             generator_lr = g_lr, \n",
    "                             generator_d_noise = noise, \n",
    "                             critic_d_hidden = cd, \n",
    "                             generator_d_hidden = gd, \n",
    "                             critic_gp_factor = factor, \n",
    "                             generator_dropout = dropout, \n",
    "                             critic_steps = steps, \n",
    "                            print_every=100)\n",
    "#generator1 = wgan.Generator(specs1)\n",
    "#critic1 = wgan.Critic(specs1)\n",
    "\n",
    "\n",
    "data_wrapper2a = wgan.DataWrapper(dfa, cont2, context_vars=text2, continuous_lower_bounds=lbound2,\n",
    "                                              continuous_upper_bounds=ubound2)\n",
    "x2a, context2a = data_wrapper2a.preprocess(dfa)\n",
    "specs2a = wgan.Specifications(data_wrapper2a,\n",
    "                              batch_size=bsize,\n",
    "                              critic_steps=steps,\n",
    "                              optimizer= torch.optim.Adam, \n",
    "                              generator_optimizer = wgan.OAdam, \n",
    "                              critic_lr = c_lr, \n",
    "                              generator_lr = g_lr, \n",
    "                              critic_d_hidden = cd, \n",
    "                              generator_d_hidden = gd, \n",
    "                              critic_gp_factor = factor, \n",
    "                              generator_d_noise = noise, \n",
    "                              generator_dropout = dropout, \n",
    "                              max_epochs=epochs, \n",
    "                              print_every=100) \n",
    "generator2a = wgan.Generator(specs2a)\n",
    "critic2a = wgan.Critic(specs2a)\n",
    "\n",
    "\n",
    "data_wrapper2b = wgan.DataWrapper(dfb, cont2, context_vars=text2, continuous_lower_bounds=lbound2,\n",
    "                                      continuous_upper_bounds=ubound2)\n",
    "x2b, context2b = data_wrapper2b.preprocess(dfb)\n",
    "specifications2b = wgan.Specifications(data_wrapper2b,\n",
    "                                       batch_size=bsize,\n",
    "                                       critic_steps=steps,\n",
    "                                       optimizer=torch.optim.Adam, \n",
    "                                       generator_optimizer=wgan.OAdam,\n",
    "                                       critic_lr = c_lr, \n",
    "                                       generator_lr = g_lr, \n",
    "                                       critic_d_hidden = cd, \n",
    "                                       generator_d_hidden = gd, \n",
    "                                       critic_gp_factor = factor, \n",
    "                                       max_epochs = epochs, \n",
    "                                       generator_d_noise = noise, \n",
    "                                       generator_dropout= dropout, \n",
    "                                       print_every=100)\n",
    "generator2b = wgan.Generator(specifications2b)\n",
    "critic2b = wgan.Critic(specifications2b)"
   ]
  },
  {
   "cell_type": "markdown",
   "metadata": {
    "colab_type": "text",
    "id": "DziP34SDjjce"
   },
   "source": [
    "Run the next cell to train the models. You can abort at any time to continue with the evaluation."
   ]
  },
  {
   "cell_type": "code",
   "execution_count": 243,
   "metadata": {
    "colab": {
     "base_uri": "https://localhost:8080/",
     "height": 51
    },
    "colab_type": "code",
    "id": "hA_TKeHxlpZ6",
    "outputId": "77858ebb-1555-405e-984d-f3246a59aa62"
   },
   "outputs": [
    {
     "name": "stdout",
     "output_type": "stream",
     "text": [
      "epoch 0 | step 104 | WD_test 0.59 | WD_train 0.03 | sec passed 0 |\n",
      "epoch 100 | step 10404 | WD_test -0.24 | WD_train 0.07 | sec passed 34 |\n",
      "epoch 200 | step 20704 | WD_test 0.1 | WD_train -0.02 | sec passed 39 |\n",
      "epoch 300 | step 31004 | WD_test 0.45 | WD_train 0.06 | sec passed 837 |\n",
      "epoch 400 | step 41304 | WD_test -0.23 | WD_train 0.05 | sec passed 53 |\n",
      "epoch 500 | step 51604 | WD_test -0.2 | WD_train 0.03 | sec passed 50 |\n",
      "epoch 600 | step 61904 | WD_test 0.22 | WD_train 0.06 | sec passed 51 |\n",
      "epoch 700 | step 72204 | WD_test 0.08 | WD_train 0.03 | sec passed 51 |\n",
      "epoch 800 | step 82504 | WD_test 0.31 | WD_train 0.02 | sec passed 50 |\n",
      "epoch 900 | step 92804 | WD_test -0.06 | WD_train 0.02 | sec passed 45 |\n",
      "epoch 1000 | step 103104 | WD_test 0.01 | WD_train -0.02 | sec passed 44 |\n",
      "epoch 1100 | step 113404 | WD_test 0.46 | WD_train 0.04 | sec passed 44 |\n",
      "epoch 1200 | step 123704 | WD_test -0.07 | WD_train -0.02 | sec passed 43 |\n",
      "epoch 1300 | step 134004 | WD_test 0.12 | WD_train -0.02 | sec passed 42 |\n",
      "epoch 1400 | step 144304 | WD_test -0.09 | WD_train 0.04 | sec passed 42 |\n",
      "epoch 1500 | step 154604 | WD_test 0.03 | WD_train -0.01 | sec passed 42 |\n",
      "epoch 1600 | step 164904 | WD_test -0.38 | WD_train 0.05 | sec passed 42 |\n",
      "epoch 1700 | step 175204 | WD_test 0.78 | WD_train 0.04 | sec passed 40 |\n",
      "epoch 1800 | step 185504 | WD_test -0.13 | WD_train 0.01 | sec passed 42 |\n",
      "epoch 1900 | step 195804 | WD_test 0.23 | WD_train 0.05 | sec passed 42 |\n",
      "epoch 0 | step 61 | WD_test 0.16 | WD_train 0.07 | sec passed 0 |\n",
      "epoch 100 | step 6061 | WD_test 0.23 | WD_train 0.09 | sec passed 24 |\n",
      "epoch 200 | step 12061 | WD_test -0.05 | WD_train 0.05 | sec passed 26 |\n",
      "epoch 300 | step 18061 | WD_test 0.48 | WD_train 0.09 | sec passed 24 |\n",
      "epoch 400 | step 24061 | WD_test 0.3 | WD_train 0.04 | sec passed 27 |\n",
      "epoch 500 | step 30061 | WD_test 0.14 | WD_train 0.04 | sec passed 25 |\n",
      "epoch 600 | step 36061 | WD_test 0.11 | WD_train 0.04 | sec passed 26 |\n",
      "epoch 700 | step 42061 | WD_test 0.31 | WD_train 0.03 | sec passed 24 |\n",
      "epoch 800 | step 48061 | WD_test 0.16 | WD_train 0.03 | sec passed 26 |\n",
      "epoch 900 | step 54061 | WD_test 0.48 | WD_train 0.14 | sec passed 24 |\n",
      "epoch 1000 | step 60061 | WD_test -0.29 | WD_train 0.1 | sec passed 25 |\n",
      "epoch 1100 | step 66061 | WD_test 0.48 | WD_train 0.09 | sec passed 25 |\n",
      "epoch 1200 | step 72061 | WD_test 0.17 | WD_train 0.05 | sec passed 25 |\n",
      "epoch 1300 | step 78061 | WD_test -0.04 | WD_train -0.01 | sec passed 25 |\n",
      "epoch 1400 | step 84061 | WD_test -0.05 | WD_train 0.03 | sec passed 27 |\n",
      "epoch 1500 | step 90061 | WD_test -0.13 | WD_train 0.06 | sec passed 26 |\n",
      "epoch 1600 | step 96061 | WD_test -0.06 | WD_train 0.02 | sec passed 25 |\n",
      "epoch 1700 | step 102061 | WD_test -0.06 | WD_train 0.01 | sec passed 26 |\n",
      "epoch 1800 | step 108061 | WD_test -0.13 | WD_train 0.0 | sec passed 26 |\n",
      "epoch 1900 | step 114061 | WD_test 0.04 | WD_train 0.0 | sec passed 26 |\n",
      "epoch 0 | step 44 | WD_test 0.16 | WD_train 0.09 | sec passed 0 |\n",
      "epoch 100 | step 4344 | WD_test 0.24 | WD_train 0.21 | sec passed 18 |\n",
      "epoch 200 | step 8644 | WD_test 0.18 | WD_train 0.12 | sec passed 18 |\n",
      "epoch 300 | step 12944 | WD_test 0.27 | WD_train 0.16 | sec passed 17 |\n",
      "epoch 400 | step 17244 | WD_test 0.15 | WD_train 0.1 | sec passed 18 |\n",
      "epoch 500 | step 21544 | WD_test 0.06 | WD_train 0.11 | sec passed 18 |\n",
      "epoch 600 | step 25844 | WD_test 0.04 | WD_train 0.09 | sec passed 19 |\n",
      "epoch 700 | step 30144 | WD_test -0.06 | WD_train 0.09 | sec passed 18 |\n",
      "epoch 800 | step 34444 | WD_test 0.13 | WD_train 0.09 | sec passed 18 |\n",
      "epoch 900 | step 38744 | WD_test 0.12 | WD_train 0.04 | sec passed 17 |\n",
      "epoch 1000 | step 43044 | WD_test 0.03 | WD_train 0.05 | sec passed 18 |\n",
      "epoch 1100 | step 47344 | WD_test 0.1 | WD_train 0.07 | sec passed 17 |\n",
      "epoch 1200 | step 51644 | WD_test -0.03 | WD_train 0.09 | sec passed 18 |\n",
      "epoch 1300 | step 55944 | WD_test 0.23 | WD_train 0.06 | sec passed 21 |\n",
      "epoch 1400 | step 60244 | WD_test 0.22 | WD_train 0.1 | sec passed 23 |\n",
      "epoch 1500 | step 64544 | WD_test -0.08 | WD_train 0.06 | sec passed 20 |\n",
      "epoch 1600 | step 68844 | WD_test 0.02 | WD_train 0.02 | sec passed 19 |\n",
      "epoch 1700 | step 73144 | WD_test 0.01 | WD_train 0.03 | sec passed 19 |\n",
      "epoch 1800 | step 77444 | WD_test -0.05 | WD_train 0.06 | sec passed 21 |\n",
      "epoch 1900 | step 81744 | WD_test -0.0 | WD_train 0.1 | sec passed 18 |\n"
     ]
    }
   ],
   "source": [
    "# Option 1: train from scratch\n",
    "wgan.train(generator1, critic1, x1, context1, specs1)\n",
    "wgan.train(generator2a, critic2a, x2a, context2a, specs2a)\n",
    "wgan.train(generator2b, critic2b, x2b, context2b, specifications2b)"
   ]
  },
  {
   "cell_type": "markdown",
   "metadata": {
    "colab_type": "text",
    "id": "QGevqD0tG0Da"
   },
   "source": [
    "Alternatively, you can load our pre-trained parameters:"
   ]
  },
  {
   "cell_type": "code",
   "execution_count": 9,
   "metadata": {
    "colab": {},
    "colab_type": "code",
    "id": "v_BXU6C0GaSY"
   },
   "outputs": [],
   "source": [
    "# Option 2: load trained model parameters\n",
    "def load_saved_parameters(type):\n",
    "  for model, name in zip([generator1, critic1,\n",
    "                          generator2a, critic2a, \n",
    "                          generator2b, critic2b], \n",
    "                         [\"G1\",\"C1\", \"G2a\",\"C2a\", \"G2b\", \"C2b\"]):\n",
    "      state_dict = torch.load(\"../trained_models/\" + name + \"_{}.pth\".format(type))\n",
    "      model.load_state_dict(state_dict)\n",
    "\n",
    "load_saved_parameters(\"lee\")"
   ]
  },
  {
   "cell_type": "markdown",
   "metadata": {
    "colab_type": "text",
    "id": "I303ONMtrjX7"
   },
   "source": [
    "To get a simulated data frame, we use the `DataWrapper.apply_generator(generator, df)` method, which updates columns in `df` with data simulated from `generator` wherever possible. We can therefore chain multiple calls together to build up a fake dataframe from multiple (partial) generators.\n",
    "Similarly, we can add a column with the values of the critic using the `DataWrapper.apply_critic(critic, df)` method.\n",
    "\n",
    "We'll wrap everything into a function so that we can repeat later."
   ]
  },
  {
   "cell_type": "code",
   "execution_count": 272,
   "metadata": {},
   "outputs": [
    {
     "name": "stdout",
     "output_type": "stream",
     "text": [
      "     x         y\n",
      "0  0.0  0.641352\n",
      "1  0.0  0.491037\n",
      "2  0.0  0.459640\n",
      "3  0.0  0.389233\n",
      "4  0.0  0.630577\n",
      "     x         y\n",
      "0  0.0  0.364484\n",
      "1  0.0  0.364142\n",
      "2  0.0  0.494236\n",
      "3  0.0  0.344758\n",
      "4  0.0  0.440789\n"
     ]
    },
    {
     "data": {
      "text/plain": [
       "0.07335597"
      ]
     },
     "execution_count": 272,
     "metadata": {},
     "output_type": "execute_result"
    }
   ],
   "source": [
    "def get_ground_truth(): \n",
    "    df = pd.DataFrame(np.zeros((10000000, 2)), columns=['x', 'y'])\n",
    "    dfa = data_wrapper2a.apply_generator(generator2a, df)\n",
    "    dfb = data_wrapper2b.apply_generator(generator2b, df)\n",
    "    print(dfa.head())\n",
    "    print(dfb.head())\n",
    "    return dfa['y'].mean() - dfb['y'].mean()\n",
    "\n",
    "get_ground_truth()"
   ]
  },
  {
   "cell_type": "code",
   "execution_count": 235,
   "metadata": {
    "colab": {},
    "colab_type": "code",
    "id": "aiCDHCGO2lZZ"
   },
   "outputs": [],
   "source": [
    "def apply_models_to_data():\n",
    "    s = df.sample(int(3e4),replace=True)\n",
    "    s = data_wrapper1.apply_generator(generator1, s) \n",
    "   \n",
    "    dfa = s[s['x']>0].copy()\n",
    "    dfb = s[s['x']<=0].copy() \n",
    "    print(dfa.head())\n",
    "    print(dfb.head())\n",
    "    #first generate x \n",
    "    dfa = data_wrapper2a.apply_generator(generator2a, dfa)\n",
    "    dfb = data_wrapper2b.apply_generator(generator2b, dfb)\n",
    "    return pd.concat([dfa,dfb],axis=0,ignore_index=True)"
   ]
  },
  {
   "cell_type": "code",
   "execution_count": 245,
   "metadata": {},
   "outputs": [
    {
     "name": "stdout",
     "output_type": "stream",
     "text": [
      "          x         y\n",
      "0  0.070297  0.673697\n",
      "1  0.105010  0.796105\n",
      "3  0.167131  0.326197\n",
      "4  0.411104  0.494833\n",
      "5  0.408603  0.196265\n",
      "           x         y\n",
      "2  -0.283673  0.597935\n",
      "6  -0.031450  0.604752\n",
      "7  -0.763853  0.347118\n",
      "11 -0.236126  0.334024\n",
      "14 -0.196777  0.428432\n"
     ]
    },
    {
     "data": {
      "text/plain": [
       "<matplotlib.collections.PathCollection at 0x13fbb0f40>"
      ]
     },
     "execution_count": 245,
     "metadata": {},
     "output_type": "execute_result"
    },
    {
     "data": {
      "image/png": "[encoded data removed]",
      "text/plain": [
       "<Figure size 432x288 with 1 Axes>"
      ]
     },
     "metadata": {
      "needs_background": "light"
     },
     "output_type": "display_data"
    },
    {
     "data": {
      "image/png": "[encoded data removed]",
      "text/plain": [
       "<Figure size 432x288 with 1 Axes>"
      ]
     },
     "metadata": {
      "needs_background": "light"
     },
     "output_type": "display_data"
    }
   ],
   "source": [
    "import matplotlib.pyplot as plt\n",
    "df_fake = apply_models_to_data()\n",
    "#print(rdd_estimate(df_fake)) \n",
    "\n",
    "fig=plt.figure() \n",
    "ax=fig.add_axes([0,0,1,1])\n",
    "ax.scatter(dfa['x'],dfa['y'], color='r')\n",
    "ax.scatter(dfb['x'],dfb['y'], color='b')\n",
    "\n",
    "fig2=plt.figure() \n",
    "ax=fig2.add_axes([0,0,1,1])\n",
    "ax.scatter(df_fake.loc[df_fake['x']>0,'x'],df_fake.loc[df_fake['x']>0,'y'], color='r')\n",
    "ax.scatter(df_fake.loc[df_fake['x']<=0,'x'],df_fake.loc[df_fake['x']<=0,'y'], color='b')"
   ]
  },
  {
   "cell_type": "code",
   "execution_count": 110,
   "metadata": {},
   "outputs": [
    {
     "name": "stdout",
     "output_type": "stream",
     "text": [
      "0.6978809707176532\n",
      "0.3465220178467153\n",
      "0.81872016\n",
      "0.48907354\n"
     ]
    }
   ],
   "source": [
    "print(dfa['y'].mean())\n",
    "print(dfb['y'].mean())\n",
    "\n",
    "print(df_fake.loc[df_fake['x']>0,'y'].mean())\n",
    "print(df_fake.loc[df_fake['x']<=0,'y'].mean())"
   ]
  },
  {
   "cell_type": "code",
   "execution_count": 261,
   "metadata": {},
   "outputs": [],
   "source": [
    "def rdd_estimate(data):\n",
    "    bandwidth_opt = rdd.optimal_bandwidth(data['y'], data['x'], cut=0) \n",
    "    data_rdd = rdd.truncated_data(data, 'x', bandwidth_opt, cut=0) \n",
    "    model = rdd.rdd(data_rdd, 'x', 'y', cut=0)\n",
    "    return model.fit().params[1]"
   ]
  },
  {
   "cell_type": "markdown",
   "metadata": {
    "colab_type": "text",
    "id": "O20NAjXC3Zws"
   },
   "source": [
    "Finally, we can examine our generated data with the `compare_dfs` function.\n"
   ]
  },
  {
   "cell_type": "code",
   "execution_count": 264,
   "metadata": {},
   "outputs": [
    {
     "data": {
      "text/plain": [
       "<bound method NDFrame.head of      source         x         y\n",
       "0      fake  0.070297  0.542877\n",
       "1      fake  0.105010  0.540387\n",
       "2      fake  0.167131  0.552587\n",
       "3      fake  0.411104  0.912086\n",
       "4      fake  0.408603  0.824880\n",
       "...     ...       ...       ...\n",
       "9995   fake -0.161408  0.404145\n",
       "9996   fake -0.037997  0.379935\n",
       "9997   fake -0.029803  0.422341\n",
       "9998   fake -0.096977  0.521137\n",
       "9999   fake -0.276613  0.408682\n",
       "\n",
       "[10000 rows x 3 columns]>"
      ]
     },
     "execution_count": 264,
     "metadata": {},
     "output_type": "execute_result"
    }
   ],
   "source": [
    "df_fake.head"
   ]
  },
  {
   "cell_type": "code",
   "execution_count": 262,
   "metadata": {},
   "outputs": [
    {
     "name": "stdout",
     "output_type": "stream",
     "text": [
      "Estimation Equation:\t y ~ TREATED + x\n",
      "real: 0.08522574425161498\n",
      "Estimation Equation:\t y ~ TREATED + x\n",
      "fake: 0.07138780500827026\n"
     ]
    }
   ],
   "source": [
    "print(\"real:\",rdd_estimate(df)) \n",
    "print(\"fake:\",rdd_estimate(df_fake))"
   ]
  },
  {
   "cell_type": "code",
   "execution_count": 246,
   "metadata": {
    "colab": {},
    "colab_type": "code",
    "id": "8V6ds_a7RMzY"
   },
   "outputs": [],
   "source": [
    "def evaluate_results():\n",
    "  # Let's print the att!\n",
    "  print(\"--------------------RDD--------------------\")\n",
    "  #print(\"real:\",rdd_estimate(df)) \n",
    "  #print(\"fake:\",rdd_estimate(df_fake))\n",
    "\n",
    "  # Now, we'll compare our fake data to the real data\n",
    "  table_groupby = [\"t\"]\n",
    "  scatterplot = dict(x= [\"x\"],\n",
    "                     y= [\"y\"],\n",
    "                     samples = 5000, smooth = 0)\n",
    "  histogram = dict(variables=['x','y','x','y'],\n",
    "                   nrow=2, ncol=2)\n",
    "  wgan.compare_dfs(df, df_fake, figsize=5, histogram=histogram, scatterplot=scatterplot)\n"
   ]
  },
  {
   "cell_type": "code",
   "execution_count": 247,
   "metadata": {
    "colab": {
     "base_uri": "https://localhost:8080/",
     "height": 1000
    },
    "colab_type": "code",
    "id": "U1aEaBrz28Xv",
    "outputId": "cfec271e-09df-4e47-8de3-c94fa0c46f12"
   },
   "outputs": [
    {
     "name": "stdout",
     "output_type": "stream",
     "text": [
      "--------------------RDD--------------------\n",
      "-------------comparison of means-------------\n",
      "source  fake  real\n",
      "x       0.16  0.13\n",
      "y       0.55  0.55\n",
      "-------------comparison of stds-------------\n",
      "source  fake  real\n",
      "x       0.44  0.46\n",
      "y       0.23  0.24\n"
     ]
    },
    {
     "name": "stderr",
     "output_type": "stream",
     "text": [
      "/Users/evanmunro/.pyenv/versions/3.9.1/lib/python3.9/site-packages/wgan/wgan.py:670: UserWarning: Matplotlib is currently using module://ipykernel.pylab.backend_inline, which is a non-GUI backend, so cannot show the figure.\n",
      "  fig2.show()\n",
      "/Users/evanmunro/.pyenv/versions/3.9.1/lib/python3.9/site-packages/wgan/wgan.py:702: UserWarning: Matplotlib is currently using module://ipykernel.pylab.backend_inline, which is a non-GUI backend, so cannot show the figure.\n",
      "  fig3.show()\n"
     ]
    },
    {
     "data": {
      "image/png": "[encoded data removed]",
      "text/plain": [
       "<Figure size 720x360 with 2 Axes>"
      ]
     },
     "metadata": {
      "needs_background": "light"
     },
     "output_type": "display_data"
    },
    {
     "data": {
      "image/png": "[encoded data removed]",
      "text/plain": [
       "<Figure size 720x720 with 4 Axes>"
      ]
     },
     "metadata": {
      "needs_background": "light"
     },
     "output_type": "display_data"
    },
    {
     "data": {
      "image/png": "[encoded data removed]",
      "text/plain": [
       "<Figure size 360x360 with 1 Axes>"
      ]
     },
     "metadata": {
      "needs_background": "light"
     },
     "output_type": "display_data"
    }
   ],
   "source": [
    "evaluate_results()"
   ]
  },
  {
   "cell_type": "markdown",
   "metadata": {
    "colab_type": "text",
    "id": "yvccbLta8zAi"
   },
   "source": [
    "Looks good enough? Then save the models, generate a large dataframe and export it."
   ]
  },
  {
   "cell_type": "code",
   "execution_count": 248,
   "metadata": {
    "colab": {},
    "colab_type": "code",
    "id": "wM1LhyLG99po"
   },
   "outputs": [],
   "source": [
    "# save trained model parameters\n",
    "def save_trained_parameters(type):\n",
    "  #%mkdir trained_models\n",
    "  for model, name in zip([generator1,critic1,generator2a,critic2a,generator2b,critic2b], [\"G1\",\"C1\",\"G2a\",\"C2a\",\"G2b\",\"C2b\"]):\n",
    "      torch.save(model.state_dict(), \"../trained_models/\" + name + \"_{}.pth\".format(type))"
   ]
  },
  {
   "cell_type": "code",
   "execution_count": 249,
   "metadata": {
    "colab": {},
    "colab_type": "code",
    "id": "TyfDEFycRHZ3"
   },
   "outputs": [],
   "source": [
    "save_trained_parameters(\"lee\")"
   ]
  },
  {
   "cell_type": "code",
   "execution_count": 267,
   "metadata": {
    "colab": {},
    "colab_type": "code",
    "id": "aXTqCRL688Zw"
   },
   "outputs": [],
   "source": [
    "# generate and save data of a certain sample size\n",
    "def save_generated_data(type,n_samples):\n",
    "    s = df.sample(int(n_samples),replace=True)\n",
    "    s = data_wrapper1.apply_generator(generator1,s) \n",
    "    #print(s.head())\n",
    "    dfa = s[s['x']>0]\n",
    "    dfb = s[s['x']<0]\n",
    "    #print(dfb.shape)\n",
    "    #first generate x \n",
    "    dfa = data_wrapper2a.apply_generator(generator2a,dfa)\n",
    "    dfb = data_wrapper2b.apply_generator(generator2b,dfb)\n",
    "    df_fake = pd.concat([dfa,dfb],axis=0,ignore_index=True)\n",
    "    df_fake.drop(columns=['source']).to_feather(\"../data/generated/{}_generated.feather\".format(type))"
   ]
  },
  {
   "cell_type": "code",
   "execution_count": 273,
   "metadata": {
    "colab": {},
    "colab_type": "code",
    "id": "Lj8mrJfERiKX"
   },
   "outputs": [],
   "source": [
    "save_generated_data(\"lee\",int(1e7))"
   ]
  },
  {
   "cell_type": "code",
   "execution_count": null,
   "metadata": {},
   "outputs": [],
   "source": []
  }
 ],
 "metadata": {
  "accelerator": "GPU",
  "colab": {
   "collapsed_sections": [],
   "machine_shape": "hm",
   "name": "RDD_tutorial.ipynb",
   "provenance": []
  },
  "kernelspec": {
   "display_name": "Python 3",
   "language": "python",
   "name": "python3"
  },
  "language_info": {
   "codemirror_mode": {
    "name": "ipython",
    "version": 3
   },
   "file_extension": ".py",
   "mimetype": "text/x-python",
   "name": "python",
   "nbconvert_exporter": "python",
   "pygments_lexer": "ipython3",
   "version": "3.9.1"
  }
 },
 "nbformat": 4,
 "nbformat_minor": 1
}
