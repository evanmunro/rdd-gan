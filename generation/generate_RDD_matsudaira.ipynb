{
 "cells": [
  {
   "cell_type": "markdown",
   "metadata": {
    "colab_type": "text",
    "id": "TbYd_RfxRcvm"
   },
   "source": [
    "### Simulate RDD Data "
   ]
  },
  {
   "cell_type": "markdown",
   "metadata": {
    "colab_type": "text",
    "id": "6qWwhO18Rja6"
   },
   "source": [
    "# Make some choices"
   ]
  },
  {
   "cell_type": "markdown",
   "metadata": {
    "colab_type": "text",
    "id": "qpmre4mJi8hG"
   },
   "source": [
    "Running this cell will define the variables of interest, our hyperparameters and some training options.\n",
    "\n",
    "Make sure your Google Colab runtime has a GPU. You can turn this on via:\n",
    "\n",
    "`Runtime -> Change Runtime type -> Hardware Accelerator -> GPU`"
   ]
  },
  {
   "cell_type": "code",
   "execution_count": 1,
   "metadata": {
    "colab": {},
    "colab_type": "code",
    "id": "rWdPvOVfHTrU"
   },
   "outputs": [
    {
     "data": {
      "text/plain": [
       "<module 'wgan' from '/Users/evanmunro/Documents/GitHub/rdd-gan/wgan.py'>"
      ]
     },
     "execution_count": 1,
     "metadata": {},
     "output_type": "execute_result"
    }
   ],
   "source": [
    "import wgan\n",
    "import torch\n",
    "import pandas as pd\n",
    "from rdd import rdd \n",
    "import numpy as np\n",
    "import importlib\n",
    "importlib.reload(wgan)\n",
    "#assert torch.cuda.is_available()\n",
    "\n",
    "# T | X "
   ]
  },
  {
   "cell_type": "markdown",
   "metadata": {
    "colab_type": "text",
    "id": "_Vr-KCGIRobm"
   },
   "source": [
    "### Matsudaira data "
   ]
  },
  {
   "cell_type": "code",
   "execution_count": 3,
   "metadata": {},
   "outputs": [
    {
     "data": {
      "text/html": [
       "<div>\n",
       "<style scoped>\n",
       "    .dataframe tbody tr th:only-of-type {\n",
       "        vertical-align: middle;\n",
       "    }\n",
       "\n",
       "    .dataframe tbody tr th {\n",
       "        vertical-align: top;\n",
       "    }\n",
       "\n",
       "    .dataframe thead th {\n",
       "        text-align: right;\n",
       "    }\n",
       "</style>\n",
       "<table border=\"1\" class=\"dataframe\">\n",
       "  <thead>\n",
       "    <tr style=\"text-align: right;\">\n",
       "      <th></th>\n",
       "      <th>y</th>\n",
       "      <th>x</th>\n",
       "      <th>t</th>\n",
       "    </tr>\n",
       "  </thead>\n",
       "  <tbody>\n",
       "    <tr>\n",
       "      <td>0</td>\n",
       "      <td>0.608838</td>\n",
       "      <td>30</td>\n",
       "      <td>0</td>\n",
       "    </tr>\n",
       "    <tr>\n",
       "      <td>1</td>\n",
       "      <td>0.924251</td>\n",
       "      <td>21</td>\n",
       "      <td>0</td>\n",
       "    </tr>\n",
       "    <tr>\n",
       "      <td>2</td>\n",
       "      <td>-0.884120</td>\n",
       "      <td>-43</td>\n",
       "      <td>0</td>\n",
       "    </tr>\n",
       "    <tr>\n",
       "      <td>3</td>\n",
       "      <td>0.293424</td>\n",
       "      <td>27</td>\n",
       "      <td>1</td>\n",
       "    </tr>\n",
       "    <tr>\n",
       "      <td>4</td>\n",
       "      <td>0.440617</td>\n",
       "      <td>24</td>\n",
       "      <td>0</td>\n",
       "    </tr>\n",
       "  </tbody>\n",
       "</table>\n",
       "</div>"
      ],
      "text/plain": [
       "          y   x  t\n",
       "0  0.608838  30  0\n",
       "1  0.924251  21  0\n",
       "2 -0.884120 -43  0\n",
       "3  0.293424  27  1\n",
       "4  0.440617  24  0"
      ]
     },
     "execution_count": 3,
     "metadata": {},
     "output_type": "execute_result"
    }
   ],
   "source": [
    "file = \"data/cleaned/m_math.csv\"\n",
    "df = pd.read_csv(file)\n",
    "df.head() "
   ]
  },
  {
   "cell_type": "code",
   "execution_count": 4,
   "metadata": {},
   "outputs": [
    {
     "name": "stdout",
     "output_type": "stream",
     "text": [
      "          y   x  t\n",
      "0  0.608838  30  0\n",
      "1  0.924251  21  0\n",
      "3  0.293424  27  1\n",
      "4  0.440617  24  0\n",
      "7  2.143850  62  0\n"
     ]
    }
   ],
   "source": [
    "dfa = df[df['x']>0].copy()#.head(1000)\n",
    "print(dfa.head())\n",
    "\n",
    "dfb = df[df['x']<=0].copy()#.head(1000)\n",
    "\n",
    "#dfs = pd.concat([dfa,dfb],axis=0,ignore_index=True)"
   ]
  },
  {
   "cell_type": "code",
   "execution_count": 7,
   "metadata": {},
   "outputs": [],
   "source": [
    "dc = [256,128,64]\n",
    "d = [64,128,256]\n",
    "penalty=10 \n",
    "batch=10000"
   ]
  },
  {
   "cell_type": "markdown",
   "metadata": {},
   "source": [
    "## Generate X jointly "
   ]
  },
  {
   "cell_type": "code",
   "execution_count": 8,
   "metadata": {},
   "outputs": [
    {
     "name": "stdout",
     "output_type": "stream",
     "text": [
      "settings: {'critic_d_hidden': [128, 128, 128], 'critic_dropout': 0, 'critic_steps': 15, 'critic_lr': 0.0001, 'critic_gp_factor': 10, 'generator_d_hidden': [64, 64, 64], 'generator_dropout': 0.1, 'generator_lr': 0.0001, 'generator_d_noise': 3, 'gaussian_similarity_penalty': None, 'optimizer': 'Adam', 'max_epochs': 50, 'batch_size': 10000, 'test_set_size': 16, 'load_checkpoint': None, 'save_checkpoint': None, 'save_every': 100, 'print_every': 100, 'device': 'cpu'}\n"
     ]
    }
   ],
   "source": [
    "#Generate X alone \n",
    "dwx = wgan.DataWrapper(df,[\"x\"])\n",
    "x,context = dwx.preprocess(df)\n",
    "specs = wgan.Specifications(dwx,batch_size=10000, max_epochs=50,\n",
    "                            critic_d_hidden=[128,128,128],\n",
    "                            generator_d_hidden=[64,64,64],\n",
    "                            generator_d_noise=3, \n",
    "                            critic_gp_factor=penalty, \n",
    "                            optimizer='Adam',\n",
    "                            generator_lr=0.0001, \n",
    "                            critic_lr = 0.0001, \n",
    "                            print_every=100)\n",
    "generatorx = wgan.Generator(specs)\n",
    "criticx = wgan.Critic(specs)"
   ]
  },
  {
   "cell_type": "code",
   "execution_count": 318,
   "metadata": {},
   "outputs": [
    {
     "name": "stdout",
     "output_type": "stream",
     "text": [
      "epoch 0 | step 8 | WD_test 0.06 | WD_train 0.03 | sec passed 2 |\n"
     ]
    }
   ],
   "source": [
    "wgan.train(generatorx, criticx, x, context, specs)"
   ]
  },
  {
   "cell_type": "markdown",
   "metadata": {},
   "source": [
    "## Generate T|X above and below cutoff "
   ]
  },
  {
   "cell_type": "code",
   "execution_count": 9,
   "metadata": {},
   "outputs": [
    {
     "name": "stdout",
     "output_type": "stream",
     "text": [
      "Training treatment indicator\n",
      "settings: {'critic_d_hidden': [256, 128, 64], 'critic_dropout': 0, 'critic_steps': 15, 'critic_lr': 0.0005, 'critic_gp_factor': 10, 'generator_d_hidden': [64, 128, 256], 'generator_dropout': 0.1, 'generator_lr': 0.0005, 'generator_d_noise': 3, 'gaussian_similarity_penalty': None, 'optimizer': 'Adam', 'max_epochs': 1000, 'batch_size': 10000, 'test_set_size': 16, 'load_checkpoint': None, 'save_checkpoint': None, 'save_every': 100, 'print_every': 100, 'device': 'cpu'}\n"
     ]
    }
   ],
   "source": [
    "print(\"Training treatment indicator\")\n",
    "dwt = wgan.DataWrapper(df,categorical_vars=[\"t\"],context_vars=[\"x\"])\n",
    "specs  = wgan.Specifications(dwt,\n",
    "                              batch_size=batch,\n",
    "                              max_epochs=1000,\n",
    "                              generator_d_noise=3,\n",
    "                              critic_d_hidden=dc,\n",
    "                              generator_d_hidden=d,\n",
    "                              critic_gp_factor=penalty, \n",
    "                              print_every=100,\n",
    "                              generator_lr = 0.0005, \n",
    "                              critic_lr = 0.0005, \n",
    "                              optimizer='Adam')\n",
    "\n",
    "xa,contexta = dwt.preprocess(dfa)\n",
    "generatorta = wgan.Generator(specs)\n",
    "criticta = wgan.Critic(specs)\n",
    "\n",
    "\n",
    "xb,contextb = dwt.preprocess(dfb)\n",
    "generatortb = wgan.Generator(specs)\n",
    "critictb = wgan.Critic(specs)\n"
   ]
  },
  {
   "cell_type": "code",
   "execution_count": 129,
   "metadata": {},
   "outputs": [
    {
     "name": "stdout",
     "output_type": "stream",
     "text": [
      "epoch 0 | step 6 | WD_test 0.14 | WD_train 0.06 | sec passed 2 |\n",
      "epoch 100 | step 506 | WD_test 0.1 | WD_train 0.13 | sec passed 186 |\n",
      "epoch 200 | step 1006 | WD_test 0.09 | WD_train 0.12 | sec passed 186 |\n",
      "epoch 300 | step 1506 | WD_test 0.08 | WD_train 0.11 | sec passed 184 |\n",
      "epoch 400 | step 2006 | WD_test 0.09 | WD_train 0.11 | sec passed 186 |\n",
      "epoch 500 | step 2506 | WD_test 0.09 | WD_train 0.12 | sec passed 186 |\n",
      "epoch 600 | step 3006 | WD_test 0.08 | WD_train 0.1 | sec passed 184 |\n",
      "epoch 700 | step 3506 | WD_test 0.07 | WD_train 0.08 | sec passed 186 |\n",
      "epoch 800 | step 4006 | WD_test 0.02 | WD_train 0.04 | sec passed 186 |\n",
      "epoch 900 | step 4506 | WD_test 0.01 | WD_train 0.02 | sec passed 185 |\n",
      "epoch 0 | step 4 | WD_test 0.04 | WD_train 0.01 | sec passed 1 |\n",
      "epoch 100 | step 304 | WD_test 0.48 | WD_train 0.6 | sec passed 82 |\n",
      "epoch 200 | step 604 | WD_test 0.39 | WD_train 0.44 | sec passed 82 |\n",
      "epoch 300 | step 904 | WD_test 0.14 | WD_train 0.21 | sec passed 83 |\n",
      "epoch 400 | step 1204 | WD_test -0.06 | WD_train 0.08 | sec passed 82 |\n",
      "epoch 500 | step 1504 | WD_test 0.18 | WD_train 0.07 | sec passed 83 |\n",
      "epoch 600 | step 1804 | WD_test -0.13 | WD_train 0.07 | sec passed 82 |\n",
      "epoch 700 | step 2104 | WD_test 0.07 | WD_train 0.05 | sec passed 83 |\n",
      "epoch 800 | step 2404 | WD_test 0.19 | WD_train 0.05 | sec passed 82 |\n",
      "epoch 900 | step 2704 | WD_test -0.1 | WD_train 0.04 | sec passed 83 |\n"
     ]
    }
   ],
   "source": [
    "wgan.train(generatorta, criticta, xa, contexta, specs)\n",
    "wgan.train(generatortb, critictb, xb, contextb, specs)"
   ]
  },
  {
   "cell_type": "markdown",
   "metadata": {},
   "source": [
    "## Generate Y|X above and below the cutoff "
   ]
  },
  {
   "cell_type": "code",
   "execution_count": 98,
   "metadata": {
    "colab": {
     "base_uri": "https://localhost:8080/",
     "height": 54
    },
    "colab_type": "code",
    "id": "pBAlErpjurK6",
    "outputId": "66d93627-9cc5-48c7-95e4-fafb0931aafa"
   },
   "outputs": [
    {
     "name": "stdout",
     "output_type": "stream",
     "text": [
      "settings: {'critic_d_hidden': [256, 128, 64], 'critic_dropout': 0, 'critic_steps': 15, 'critic_lr': 0.0001, 'critic_gp_factor': 10, 'generator_d_hidden': [64, 128, 256], 'generator_dropout': 0.1, 'generator_lr': 0.0001, 'generator_d_noise': 3, 'gaussian_similarity_penalty': None, 'optimizer': 'Adam', 'max_epochs': 25, 'batch_size': 500, 'test_set_size': 16, 'load_checkpoint': None, 'save_checkpoint': None, 'save_every': 100, 'print_every': 100, 'device': 'cpu'}\n",
      "[tensor([[-0.9493]]), tensor([[-29.1625]])]\n",
      "[tensor([[0.8562]]), tensor([[35.2069]])]\n",
      "settings: {'critic_d_hidden': [256, 128, 64], 'critic_dropout': 0, 'critic_steps': 15, 'critic_lr': 0.0001, 'critic_gp_factor': 10, 'generator_d_hidden': [64, 128, 256], 'generator_dropout': 0.1, 'generator_lr': 0.0001, 'generator_d_noise': 3, 'gaussian_similarity_penalty': None, 'optimizer': 'Adam', 'max_epochs': 25, 'batch_size': 5, 'test_set_size': 16, 'load_checkpoint': None, 'save_checkpoint': None, 'save_every': 100, 'print_every': 100, 'device': 'cpu'}\n"
     ]
    }
   ],
   "source": [
    "#Generate Y | X, above and below cutoff \n",
    "\n",
    "dwya = wgan.DataWrapper(dfa,[\"y\"],context_vars=[\"x\"])\n",
    "xa,contexta = dwya.preprocess(dfa)\n",
    "specsa  = wgan.Specifications(dwya,\n",
    "                              batch_size=500,\n",
    "                              max_epochs=25,\n",
    "                              generator_d_noise=3,\n",
    "                              critic_d_hidden=dc,\n",
    "                              generator_d_hidden=d,\n",
    "                              critic_gp_factor=penalty,\n",
    "                              print_every=100,\n",
    "                              optimizer='Adam',\n",
    "                              generator_lr = 0.0001, \n",
    "                              critic_lr = 0.0001) \n",
    "\n",
    "#above cutoff\n",
    "generatorya = wgan.Generator(specsa)\n",
    "criticya = wgan.Critic(specsa)\n",
    "\n",
    "dwyb = wgan.DataWrapper(dfb,[\"y\"],context_vars=[\"x\"])\n",
    "print(dwyb.means)\n",
    "print(dwyb.stds) \n",
    "#below cutoff \n",
    "specsb  = wgan.Specifications(dwyb,\n",
    "                              batch_size=5,\n",
    "                              max_epochs=25,\n",
    "                              generator_d_noise=3,\n",
    "                              critic_d_hidden=dc,\n",
    "                              generator_d_hidden=d,\n",
    "                              critic_gp_factor=penalty, \n",
    "                              print_every=100,\n",
    "                              generator_lr=0.0001,\n",
    "                              critic_lr=0.0001, \n",
    "                              optimizer='Adam') \n",
    "xb,contextb = dwyb.preprocess(dfb)\n",
    "generatoryb = wgan.Generator(specsb)\n",
    "criticyb = wgan.Critic(specsb)"
   ]
  },
  {
   "cell_type": "code",
   "execution_count": 94,
   "metadata": {},
   "outputs": [
    {
     "name": "stdout",
     "output_type": "stream",
     "text": [
      "epoch 0 | step 4 | WD_test 0.33 | WD_train 0.47 | sec passed 1 |\n",
      "epoch 0 | step 6 | WD_test 0.08 | WD_train 0.25 | sec passed 2 |\n"
     ]
    }
   ],
   "source": [
    "wgan.train(generatoryb, criticyb, xb, contextb, specsb)\n",
    "wgan.train(generatorya, criticya, xa, contexta, specsa)"
   ]
  },
  {
   "cell_type": "markdown",
   "metadata": {},
   "source": [
    "### Generate Joint "
   ]
  },
  {
   "cell_type": "code",
   "execution_count": null,
   "metadata": {},
   "outputs": [],
   "source": []
  },
  {
   "cell_type": "code",
   "execution_count": null,
   "metadata": {},
   "outputs": [],
   "source": [
    "wgan.train(generatorj, criticj, x, context, specs)"
   ]
  },
  {
   "cell_type": "markdown",
   "metadata": {},
   "source": [
    "## Test Generated Data "
   ]
  },
  {
   "cell_type": "code",
   "execution_count": 105,
   "metadata": {},
   "outputs": [],
   "source": [
    "def apply_models(df): \n",
    "    s = dwx.apply_generator(generatorx,df)\n",
    "    sa = s[s['x']>0]\n",
    "    sb = s[s['x']<=0] \n",
    "    sa = dwya.apply_generator(generatorya,sa) \n",
    "    sb = dwyb.apply_generator(generatoryb,sb)\n",
    "    sa = dwt.apply_generator(generatorta,sa)\n",
    "    sb = dwt.apply_generator(generatortb,sb) \n",
    "    return pd.concat([sa,sb],axis=0,ignore_index=True)\n",
    "\n",
    "def apply_joint(dfa,dfb):\n",
    "    df = pd.concat([dfa,dfb],axis=0,ignore_index=True)\n",
    "    df = dwj.apply_generator(generatorj,df) \n",
    "    return df \n",
    "\n",
    "def apply_below(dfb): \n",
    "    print(dwyb.means) \n",
    "    dfb = dwyb.apply_generator(generatoryb,dfb)\n",
    "    return dfb \n",
    "\n",
    "def apply_above(dfa): \n",
    "    dfa = dwya.apply_generator(generatorya,dfa)\n",
    "    return dfa "
   ]
  },
  {
   "cell_type": "code",
   "execution_count": 208,
   "metadata": {},
   "outputs": [
    {
     "data": {
      "text/plain": [
       "(21209, 3)"
      ]
     },
     "execution_count": 208,
     "metadata": {},
     "output_type": "execute_result"
    }
   ],
   "source": [
    "dfb.shape"
   ]
  },
  {
   "cell_type": "code",
   "execution_count": 106,
   "metadata": {},
   "outputs": [
    {
     "data": {
      "text/plain": [
       "<matplotlib.collections.PathCollection at 0x134d3ecd0>"
      ]
     },
     "execution_count": 106,
     "metadata": {},
     "output_type": "execute_result"
    },
    {
     "data": {
      "image/png": "[encoded data removed]",
      "text/plain": [
       "<Figure size 432x288 with 1 Axes>"
      ]
     },
     "metadata": {
      "needs_background": "light"
     },
     "output_type": "display_data"
    },
    {
     "data": {
      "image/png": "[encoded data removed]",
      "text/plain": [
       "<Figure size 432x288 with 1 Axes>"
      ]
     },
     "metadata": {
      "needs_background": "light"
     },
     "output_type": "display_data"
    }
   ],
   "source": [
    "import matplotlib.pyplot as plt\n",
    "df_fake = apply_models(df)\n",
    "#df_fake = apply_joint(dfa,dfb)\n",
    "df_fa = df_fake[df_fake['x']>0] \n",
    "df_fb = df_fake[df_fake['x']<=0] \n",
    "#df_fb = apply_below(dfb) \n",
    "#df_fa = apply_above(dfa) \n",
    "\n",
    "fig=plt.figure() \n",
    "ax=fig.add_axes([0,0,1,1])\n",
    "ax.scatter(dfa['x'].sample(1000),dfa['y'].sample(1000), color='r')\n",
    "ax.scatter(dfb['x'].sample(1000),dfb['y'].sample(1000), color='b')\n",
    "\n",
    "fig2=plt.figure() \n",
    "ax=fig2.add_axes([0,0,1,1])\n",
    "ax.scatter(df_fa['x'].sample(1000),df_fa['y'].sample(1000), color='r')\n",
    "ax.scatter(df_fb['x'].sample(1000),df_fb['y'].sample(1000), color='b')\n"
   ]
  },
  {
   "cell_type": "code",
   "execution_count": 288,
   "metadata": {},
   "outputs": [
    {
     "name": "stdout",
     "output_type": "stream",
     "text": [
      "0.05567375608049535\n",
      "-0.3717972624189916\n"
     ]
    },
    {
     "data": {
      "text/plain": [
       "-0.1497422431737935"
      ]
     },
     "execution_count": 288,
     "metadata": {},
     "output_type": "execute_result"
    }
   ],
   "source": [
    "rdd_fuzzy(df,h=5)"
   ]
  },
  {
   "cell_type": "code",
   "execution_count": 107,
   "metadata": {},
   "outputs": [
    {
     "name": "stdout",
     "output_type": "stream",
     "text": [
      "3.0638517727738823\n",
      "Estimation Equation:\t y ~ TREATED + x\n"
     ]
    },
    {
     "data": {
      "text/plain": [
       "-0.26431840189529554"
      ]
     },
     "execution_count": 107,
     "metadata": {},
     "output_type": "execute_result"
    }
   ],
   "source": [
    "rdd_estimate(df_fake.sample(7000))"
   ]
  },
  {
   "cell_type": "code",
   "execution_count": 109,
   "metadata": {},
   "outputs": [
    {
     "name": "stdout",
     "output_type": "stream",
     "text": [
      "1.2437314944012584e-05\n",
      "Estimation Equation:\t y ~ TREATED + x\n"
     ]
    },
    {
     "ename": "ValueError",
     "evalue": "zero-size array to reduction operation maximum which has no identity",
     "output_type": "error",
     "traceback": [
      "\u001b[0;31m---------------------------------------------------------------------------\u001b[0m",
      "\u001b[0;31mValueError\u001b[0m                                Traceback (most recent call last)",
      "\u001b[0;32m<ipython-input-109-c1a48028bf4a>\u001b[0m in \u001b[0;36m<module>\u001b[0;34m\u001b[0m\n\u001b[0;32m----> 1\u001b[0;31m \u001b[0mrdd_estimate\u001b[0m\u001b[0;34m(\u001b[0m\u001b[0mdf\u001b[0m\u001b[0;34m.\u001b[0m\u001b[0msample\u001b[0m\u001b[0;34m(\u001b[0m\u001b[0;36m8000\u001b[0m\u001b[0;34m)\u001b[0m\u001b[0;34m)\u001b[0m\u001b[0;34m\u001b[0m\u001b[0;34m\u001b[0m\u001b[0m\n\u001b[0m",
      "\u001b[0;32m<ipython-input-30-68505dddd881>\u001b[0m in \u001b[0;36mrdd_estimate\u001b[0;34m(data)\u001b[0m\n\u001b[1;32m      3\u001b[0m     \u001b[0mprint\u001b[0m\u001b[0;34m(\u001b[0m\u001b[0mbandwidth_opt\u001b[0m\u001b[0;34m)\u001b[0m\u001b[0;34m\u001b[0m\u001b[0;34m\u001b[0m\u001b[0m\n\u001b[1;32m      4\u001b[0m     \u001b[0mdata_rdd\u001b[0m \u001b[0;34m=\u001b[0m \u001b[0mrdd\u001b[0m\u001b[0;34m.\u001b[0m\u001b[0mtruncated_data\u001b[0m\u001b[0;34m(\u001b[0m\u001b[0mdata\u001b[0m\u001b[0;34m,\u001b[0m \u001b[0;34m'x'\u001b[0m\u001b[0;34m,\u001b[0m \u001b[0mbandwidth_opt\u001b[0m\u001b[0;34m,\u001b[0m \u001b[0mcut\u001b[0m\u001b[0;34m=\u001b[0m\u001b[0;36m0\u001b[0m\u001b[0;34m)\u001b[0m\u001b[0;34m\u001b[0m\u001b[0;34m\u001b[0m\u001b[0m\n\u001b[0;32m----> 5\u001b[0;31m     \u001b[0mmodel\u001b[0m \u001b[0;34m=\u001b[0m \u001b[0mrdd\u001b[0m\u001b[0;34m.\u001b[0m\u001b[0mrdd\u001b[0m\u001b[0;34m(\u001b[0m\u001b[0mdata_rdd\u001b[0m\u001b[0;34m,\u001b[0m \u001b[0;34m'x'\u001b[0m\u001b[0;34m,\u001b[0m \u001b[0;34m'y'\u001b[0m\u001b[0;34m,\u001b[0m \u001b[0mcut\u001b[0m\u001b[0;34m=\u001b[0m\u001b[0;36m0\u001b[0m\u001b[0;34m)\u001b[0m\u001b[0;34m\u001b[0m\u001b[0;34m\u001b[0m\u001b[0m\n\u001b[0m\u001b[1;32m      6\u001b[0m     \u001b[0;32mreturn\u001b[0m \u001b[0mmodel\u001b[0m\u001b[0;34m.\u001b[0m\u001b[0mfit\u001b[0m\u001b[0;34m(\u001b[0m\u001b[0;34m)\u001b[0m\u001b[0;34m.\u001b[0m\u001b[0mparams\u001b[0m\u001b[0;34m[\u001b[0m\u001b[0;36m1\u001b[0m\u001b[0;34m]\u001b[0m\u001b[0;34m\u001b[0m\u001b[0;34m\u001b[0m\u001b[0m\n",
      "\u001b[0;32m/usr/local/lib/python3.7/site-packages/rdd/rdd.py\u001b[0m in \u001b[0;36mrdd\u001b[0;34m(input_data, xname, yname, cut, equation, controls, noconst, weights, verbose)\u001b[0m\n\u001b[1;32m    135\u001b[0m     \u001b[0;32mif\u001b[0m \u001b[0mverbose\u001b[0m\u001b[0;34m==\u001b[0m\u001b[0;32mTrue\u001b[0m\u001b[0;34m:\u001b[0m\u001b[0;34m\u001b[0m\u001b[0;34m\u001b[0m\u001b[0m\n\u001b[1;32m    136\u001b[0m         \u001b[0mprint\u001b[0m\u001b[0;34m(\u001b[0m\u001b[0;34m'Estimation Equation:\\t'\u001b[0m\u001b[0;34m,\u001b[0m \u001b[0mequation\u001b[0m\u001b[0;34m)\u001b[0m\u001b[0;34m\u001b[0m\u001b[0;34m\u001b[0m\u001b[0m\n\u001b[0;32m--> 137\u001b[0;31m     \u001b[0mrdd_model\u001b[0m \u001b[0;34m=\u001b[0m \u001b[0msmf\u001b[0m\u001b[0;34m.\u001b[0m\u001b[0mwls\u001b[0m\u001b[0;34m(\u001b[0m\u001b[0mequation\u001b[0m\u001b[0;34m,\u001b[0m \u001b[0mdata\u001b[0m\u001b[0;34m=\u001b[0m\u001b[0mdata\u001b[0m\u001b[0;34m,\u001b[0m \u001b[0mweights\u001b[0m\u001b[0;34m=\u001b[0m\u001b[0mweights\u001b[0m\u001b[0;34m)\u001b[0m\u001b[0;34m\u001b[0m\u001b[0;34m\u001b[0m\u001b[0m\n\u001b[0m\u001b[1;32m    138\u001b[0m     \u001b[0;32mreturn\u001b[0m \u001b[0mrdd_model\u001b[0m\u001b[0;34m\u001b[0m\u001b[0;34m\u001b[0m\u001b[0m\n\u001b[1;32m    139\u001b[0m \u001b[0;34m\u001b[0m\u001b[0m\n",
      "\u001b[0;32m/usr/local/lib/python3.7/site-packages/statsmodels/base/model.py\u001b[0m in \u001b[0;36mfrom_formula\u001b[0;34m(cls, formula, data, subset, drop_cols, *args, **kwargs)\u001b[0m\n\u001b[1;32m    176\u001b[0m                        \u001b[0;34m'formula'\u001b[0m\u001b[0;34m:\u001b[0m \u001b[0mformula\u001b[0m\u001b[0;34m,\u001b[0m  \u001b[0;31m# attach formula for unpckling\u001b[0m\u001b[0;34m\u001b[0m\u001b[0;34m\u001b[0m\u001b[0m\n\u001b[1;32m    177\u001b[0m                        'design_info': design_info})\n\u001b[0;32m--> 178\u001b[0;31m         \u001b[0mmod\u001b[0m \u001b[0;34m=\u001b[0m \u001b[0mcls\u001b[0m\u001b[0;34m(\u001b[0m\u001b[0mendog\u001b[0m\u001b[0;34m,\u001b[0m \u001b[0mexog\u001b[0m\u001b[0;34m,\u001b[0m \u001b[0;34m*\u001b[0m\u001b[0margs\u001b[0m\u001b[0;34m,\u001b[0m \u001b[0;34m**\u001b[0m\u001b[0mkwargs\u001b[0m\u001b[0;34m)\u001b[0m\u001b[0;34m\u001b[0m\u001b[0;34m\u001b[0m\u001b[0m\n\u001b[0m\u001b[1;32m    179\u001b[0m         \u001b[0mmod\u001b[0m\u001b[0;34m.\u001b[0m\u001b[0mformula\u001b[0m \u001b[0;34m=\u001b[0m \u001b[0mformula\u001b[0m\u001b[0;34m\u001b[0m\u001b[0;34m\u001b[0m\u001b[0m\n\u001b[1;32m    180\u001b[0m \u001b[0;34m\u001b[0m\u001b[0m\n",
      "\u001b[0;32m/usr/local/lib/python3.7/site-packages/statsmodels/regression/linear_model.py\u001b[0m in \u001b[0;36m__init__\u001b[0;34m(self, endog, exog, weights, missing, hasconst, **kwargs)\u001b[0m\n\u001b[1;32m    682\u001b[0m             \u001b[0mweights\u001b[0m \u001b[0;34m=\u001b[0m \u001b[0mweights\u001b[0m\u001b[0;34m.\u001b[0m\u001b[0msqueeze\u001b[0m\u001b[0;34m(\u001b[0m\u001b[0;34m)\u001b[0m\u001b[0;34m\u001b[0m\u001b[0;34m\u001b[0m\u001b[0m\n\u001b[1;32m    683\u001b[0m         super(WLS, self).__init__(endog, exog, missing=missing,\n\u001b[0;32m--> 684\u001b[0;31m                                   weights=weights, hasconst=hasconst, **kwargs)\n\u001b[0m\u001b[1;32m    685\u001b[0m         \u001b[0mnobs\u001b[0m \u001b[0;34m=\u001b[0m \u001b[0mself\u001b[0m\u001b[0;34m.\u001b[0m\u001b[0mexog\u001b[0m\u001b[0;34m.\u001b[0m\u001b[0mshape\u001b[0m\u001b[0;34m[\u001b[0m\u001b[0;36m0\u001b[0m\u001b[0;34m]\u001b[0m\u001b[0;34m\u001b[0m\u001b[0;34m\u001b[0m\u001b[0m\n\u001b[1;32m    686\u001b[0m         \u001b[0mweights\u001b[0m \u001b[0;34m=\u001b[0m \u001b[0mself\u001b[0m\u001b[0;34m.\u001b[0m\u001b[0mweights\u001b[0m\u001b[0;34m\u001b[0m\u001b[0;34m\u001b[0m\u001b[0m\n",
      "\u001b[0;32m/usr/local/lib/python3.7/site-packages/statsmodels/regression/linear_model.py\u001b[0m in \u001b[0;36m__init__\u001b[0;34m(self, endog, exog, **kwargs)\u001b[0m\n\u001b[1;32m    194\u001b[0m     \"\"\"\n\u001b[1;32m    195\u001b[0m     \u001b[0;32mdef\u001b[0m \u001b[0m__init__\u001b[0m\u001b[0;34m(\u001b[0m\u001b[0mself\u001b[0m\u001b[0;34m,\u001b[0m \u001b[0mendog\u001b[0m\u001b[0;34m,\u001b[0m \u001b[0mexog\u001b[0m\u001b[0;34m,\u001b[0m \u001b[0;34m**\u001b[0m\u001b[0mkwargs\u001b[0m\u001b[0;34m)\u001b[0m\u001b[0;34m:\u001b[0m\u001b[0;34m\u001b[0m\u001b[0;34m\u001b[0m\u001b[0m\n\u001b[0;32m--> 196\u001b[0;31m         \u001b[0msuper\u001b[0m\u001b[0;34m(\u001b[0m\u001b[0mRegressionModel\u001b[0m\u001b[0;34m,\u001b[0m \u001b[0mself\u001b[0m\u001b[0;34m)\u001b[0m\u001b[0;34m.\u001b[0m\u001b[0m__init__\u001b[0m\u001b[0;34m(\u001b[0m\u001b[0mendog\u001b[0m\u001b[0;34m,\u001b[0m \u001b[0mexog\u001b[0m\u001b[0;34m,\u001b[0m \u001b[0;34m**\u001b[0m\u001b[0mkwargs\u001b[0m\u001b[0;34m)\u001b[0m\u001b[0;34m\u001b[0m\u001b[0;34m\u001b[0m\u001b[0m\n\u001b[0m\u001b[1;32m    197\u001b[0m         \u001b[0mself\u001b[0m\u001b[0;34m.\u001b[0m\u001b[0m_data_attr\u001b[0m\u001b[0;34m.\u001b[0m\u001b[0mextend\u001b[0m\u001b[0;34m(\u001b[0m\u001b[0;34m[\u001b[0m\u001b[0;34m'pinv_wexog'\u001b[0m\u001b[0;34m,\u001b[0m \u001b[0;34m'wendog'\u001b[0m\u001b[0;34m,\u001b[0m \u001b[0;34m'wexog'\u001b[0m\u001b[0;34m,\u001b[0m \u001b[0;34m'weights'\u001b[0m\u001b[0;34m]\u001b[0m\u001b[0;34m)\u001b[0m\u001b[0;34m\u001b[0m\u001b[0;34m\u001b[0m\u001b[0m\n\u001b[1;32m    198\u001b[0m \u001b[0;34m\u001b[0m\u001b[0m\n",
      "\u001b[0;32m/usr/local/lib/python3.7/site-packages/statsmodels/base/model.py\u001b[0m in \u001b[0;36m__init__\u001b[0;34m(self, endog, exog, **kwargs)\u001b[0m\n\u001b[1;32m    214\u001b[0m \u001b[0;34m\u001b[0m\u001b[0m\n\u001b[1;32m    215\u001b[0m     \u001b[0;32mdef\u001b[0m \u001b[0m__init__\u001b[0m\u001b[0;34m(\u001b[0m\u001b[0mself\u001b[0m\u001b[0;34m,\u001b[0m \u001b[0mendog\u001b[0m\u001b[0;34m,\u001b[0m \u001b[0mexog\u001b[0m\u001b[0;34m=\u001b[0m\u001b[0;32mNone\u001b[0m\u001b[0;34m,\u001b[0m \u001b[0;34m**\u001b[0m\u001b[0mkwargs\u001b[0m\u001b[0;34m)\u001b[0m\u001b[0;34m:\u001b[0m\u001b[0;34m\u001b[0m\u001b[0;34m\u001b[0m\u001b[0m\n\u001b[0;32m--> 216\u001b[0;31m         \u001b[0msuper\u001b[0m\u001b[0;34m(\u001b[0m\u001b[0mLikelihoodModel\u001b[0m\u001b[0;34m,\u001b[0m \u001b[0mself\u001b[0m\u001b[0;34m)\u001b[0m\u001b[0;34m.\u001b[0m\u001b[0m__init__\u001b[0m\u001b[0;34m(\u001b[0m\u001b[0mendog\u001b[0m\u001b[0;34m,\u001b[0m \u001b[0mexog\u001b[0m\u001b[0;34m,\u001b[0m \u001b[0;34m**\u001b[0m\u001b[0mkwargs\u001b[0m\u001b[0;34m)\u001b[0m\u001b[0;34m\u001b[0m\u001b[0;34m\u001b[0m\u001b[0m\n\u001b[0m\u001b[1;32m    217\u001b[0m         \u001b[0mself\u001b[0m\u001b[0;34m.\u001b[0m\u001b[0minitialize\u001b[0m\u001b[0;34m(\u001b[0m\u001b[0;34m)\u001b[0m\u001b[0;34m\u001b[0m\u001b[0;34m\u001b[0m\u001b[0m\n\u001b[1;32m    218\u001b[0m \u001b[0;34m\u001b[0m\u001b[0m\n",
      "\u001b[0;32m/usr/local/lib/python3.7/site-packages/statsmodels/base/model.py\u001b[0m in \u001b[0;36m__init__\u001b[0;34m(self, endog, exog, **kwargs)\u001b[0m\n\u001b[1;32m     66\u001b[0m         \u001b[0mhasconst\u001b[0m \u001b[0;34m=\u001b[0m \u001b[0mkwargs\u001b[0m\u001b[0;34m.\u001b[0m\u001b[0mpop\u001b[0m\u001b[0;34m(\u001b[0m\u001b[0;34m'hasconst'\u001b[0m\u001b[0;34m,\u001b[0m \u001b[0;32mNone\u001b[0m\u001b[0;34m)\u001b[0m\u001b[0;34m\u001b[0m\u001b[0;34m\u001b[0m\u001b[0m\n\u001b[1;32m     67\u001b[0m         self.data = self._handle_data(endog, exog, missing, hasconst,\n\u001b[0;32m---> 68\u001b[0;31m                                       **kwargs)\n\u001b[0m\u001b[1;32m     69\u001b[0m         \u001b[0mself\u001b[0m\u001b[0;34m.\u001b[0m\u001b[0mk_constant\u001b[0m \u001b[0;34m=\u001b[0m \u001b[0mself\u001b[0m\u001b[0;34m.\u001b[0m\u001b[0mdata\u001b[0m\u001b[0;34m.\u001b[0m\u001b[0mk_constant\u001b[0m\u001b[0;34m\u001b[0m\u001b[0;34m\u001b[0m\u001b[0m\n\u001b[1;32m     70\u001b[0m         \u001b[0mself\u001b[0m\u001b[0;34m.\u001b[0m\u001b[0mexog\u001b[0m \u001b[0;34m=\u001b[0m \u001b[0mself\u001b[0m\u001b[0;34m.\u001b[0m\u001b[0mdata\u001b[0m\u001b[0;34m.\u001b[0m\u001b[0mexog\u001b[0m\u001b[0;34m\u001b[0m\u001b[0;34m\u001b[0m\u001b[0m\n",
      "\u001b[0;32m/usr/local/lib/python3.7/site-packages/statsmodels/base/model.py\u001b[0m in \u001b[0;36m_handle_data\u001b[0;34m(self, endog, exog, missing, hasconst, **kwargs)\u001b[0m\n\u001b[1;32m     89\u001b[0m \u001b[0;34m\u001b[0m\u001b[0m\n\u001b[1;32m     90\u001b[0m     \u001b[0;32mdef\u001b[0m \u001b[0m_handle_data\u001b[0m\u001b[0;34m(\u001b[0m\u001b[0mself\u001b[0m\u001b[0;34m,\u001b[0m \u001b[0mendog\u001b[0m\u001b[0;34m,\u001b[0m \u001b[0mexog\u001b[0m\u001b[0;34m,\u001b[0m \u001b[0mmissing\u001b[0m\u001b[0;34m,\u001b[0m \u001b[0mhasconst\u001b[0m\u001b[0;34m,\u001b[0m \u001b[0;34m**\u001b[0m\u001b[0mkwargs\u001b[0m\u001b[0;34m)\u001b[0m\u001b[0;34m:\u001b[0m\u001b[0;34m\u001b[0m\u001b[0;34m\u001b[0m\u001b[0m\n\u001b[0;32m---> 91\u001b[0;31m         \u001b[0mdata\u001b[0m \u001b[0;34m=\u001b[0m \u001b[0mhandle_data\u001b[0m\u001b[0;34m(\u001b[0m\u001b[0mendog\u001b[0m\u001b[0;34m,\u001b[0m \u001b[0mexog\u001b[0m\u001b[0;34m,\u001b[0m \u001b[0mmissing\u001b[0m\u001b[0;34m,\u001b[0m \u001b[0mhasconst\u001b[0m\u001b[0;34m,\u001b[0m \u001b[0;34m**\u001b[0m\u001b[0mkwargs\u001b[0m\u001b[0;34m)\u001b[0m\u001b[0;34m\u001b[0m\u001b[0;34m\u001b[0m\u001b[0m\n\u001b[0m\u001b[1;32m     92\u001b[0m         \u001b[0;31m# kwargs arrays could have changed, easier to just attach here\u001b[0m\u001b[0;34m\u001b[0m\u001b[0;34m\u001b[0m\u001b[0;34m\u001b[0m\u001b[0m\n\u001b[1;32m     93\u001b[0m         \u001b[0;32mfor\u001b[0m \u001b[0mkey\u001b[0m \u001b[0;32min\u001b[0m \u001b[0mkwargs\u001b[0m\u001b[0;34m:\u001b[0m\u001b[0;34m\u001b[0m\u001b[0;34m\u001b[0m\u001b[0m\n",
      "\u001b[0;32m/usr/local/lib/python3.7/site-packages/statsmodels/base/data.py\u001b[0m in \u001b[0;36mhandle_data\u001b[0;34m(endog, exog, missing, hasconst, **kwargs)\u001b[0m\n\u001b[1;32m    633\u001b[0m     \u001b[0mklass\u001b[0m \u001b[0;34m=\u001b[0m \u001b[0mhandle_data_class_factory\u001b[0m\u001b[0;34m(\u001b[0m\u001b[0mendog\u001b[0m\u001b[0;34m,\u001b[0m \u001b[0mexog\u001b[0m\u001b[0;34m)\u001b[0m\u001b[0;34m\u001b[0m\u001b[0;34m\u001b[0m\u001b[0m\n\u001b[1;32m    634\u001b[0m     return klass(endog, exog=exog, missing=missing, hasconst=hasconst,\n\u001b[0;32m--> 635\u001b[0;31m                  **kwargs)\n\u001b[0m",
      "\u001b[0;32m/usr/local/lib/python3.7/site-packages/statsmodels/base/data.py\u001b[0m in \u001b[0;36m__init__\u001b[0;34m(self, endog, exog, missing, hasconst, **kwargs)\u001b[0m\n\u001b[1;32m     78\u001b[0m         \u001b[0mself\u001b[0m\u001b[0;34m.\u001b[0m\u001b[0mconst_idx\u001b[0m \u001b[0;34m=\u001b[0m \u001b[0;32mNone\u001b[0m\u001b[0;34m\u001b[0m\u001b[0;34m\u001b[0m\u001b[0m\n\u001b[1;32m     79\u001b[0m         \u001b[0mself\u001b[0m\u001b[0;34m.\u001b[0m\u001b[0mk_constant\u001b[0m \u001b[0;34m=\u001b[0m \u001b[0;36m0\u001b[0m\u001b[0;34m\u001b[0m\u001b[0;34m\u001b[0m\u001b[0m\n\u001b[0;32m---> 80\u001b[0;31m         \u001b[0mself\u001b[0m\u001b[0;34m.\u001b[0m\u001b[0m_handle_constant\u001b[0m\u001b[0;34m(\u001b[0m\u001b[0mhasconst\u001b[0m\u001b[0;34m)\u001b[0m\u001b[0;34m\u001b[0m\u001b[0;34m\u001b[0m\u001b[0m\n\u001b[0m\u001b[1;32m     81\u001b[0m         \u001b[0mself\u001b[0m\u001b[0;34m.\u001b[0m\u001b[0m_check_integrity\u001b[0m\u001b[0;34m(\u001b[0m\u001b[0;34m)\u001b[0m\u001b[0;34m\u001b[0m\u001b[0;34m\u001b[0m\u001b[0m\n\u001b[1;32m     82\u001b[0m         \u001b[0mself\u001b[0m\u001b[0;34m.\u001b[0m\u001b[0m_cache\u001b[0m \u001b[0;34m=\u001b[0m \u001b[0;34m{\u001b[0m\u001b[0;34m}\u001b[0m\u001b[0;34m\u001b[0m\u001b[0;34m\u001b[0m\u001b[0m\n",
      "\u001b[0;32m/usr/local/lib/python3.7/site-packages/statsmodels/base/data.py\u001b[0m in \u001b[0;36m_handle_constant\u001b[0;34m(self, hasconst)\u001b[0m\n\u001b[1;32m    122\u001b[0m             \u001b[0;31m# detect where the constant is\u001b[0m\u001b[0;34m\u001b[0m\u001b[0;34m\u001b[0m\u001b[0;34m\u001b[0m\u001b[0m\n\u001b[1;32m    123\u001b[0m             \u001b[0mcheck_implicit\u001b[0m \u001b[0;34m=\u001b[0m \u001b[0;32mFalse\u001b[0m\u001b[0;34m\u001b[0m\u001b[0;34m\u001b[0m\u001b[0m\n\u001b[0;32m--> 124\u001b[0;31m             \u001b[0mptp_\u001b[0m \u001b[0;34m=\u001b[0m \u001b[0mnp\u001b[0m\u001b[0;34m.\u001b[0m\u001b[0mptp\u001b[0m\u001b[0;34m(\u001b[0m\u001b[0mself\u001b[0m\u001b[0;34m.\u001b[0m\u001b[0mexog\u001b[0m\u001b[0;34m,\u001b[0m \u001b[0maxis\u001b[0m\u001b[0;34m=\u001b[0m\u001b[0;36m0\u001b[0m\u001b[0;34m)\u001b[0m\u001b[0;34m\u001b[0m\u001b[0;34m\u001b[0m\u001b[0m\n\u001b[0m\u001b[1;32m    125\u001b[0m             \u001b[0;32mif\u001b[0m \u001b[0;32mnot\u001b[0m \u001b[0mnp\u001b[0m\u001b[0;34m.\u001b[0m\u001b[0misfinite\u001b[0m\u001b[0;34m(\u001b[0m\u001b[0mptp_\u001b[0m\u001b[0;34m)\u001b[0m\u001b[0;34m.\u001b[0m\u001b[0mall\u001b[0m\u001b[0;34m(\u001b[0m\u001b[0;34m)\u001b[0m\u001b[0;34m:\u001b[0m\u001b[0;34m\u001b[0m\u001b[0;34m\u001b[0m\u001b[0m\n\u001b[1;32m    126\u001b[0m                 \u001b[0;32mraise\u001b[0m \u001b[0mMissingDataError\u001b[0m\u001b[0;34m(\u001b[0m\u001b[0;34m'exog contains inf or nans'\u001b[0m\u001b[0;34m)\u001b[0m\u001b[0;34m\u001b[0m\u001b[0;34m\u001b[0m\u001b[0m\n",
      "\u001b[0;32m<__array_function__ internals>\u001b[0m in \u001b[0;36mptp\u001b[0;34m(*args, **kwargs)\u001b[0m\n",
      "\u001b[0;32m/usr/local/lib/python3.7/site-packages/numpy/core/fromnumeric.py\u001b[0m in \u001b[0;36mptp\u001b[0;34m(a, axis, out, keepdims)\u001b[0m\n\u001b[1;32m   2494\u001b[0m         \u001b[0;32melse\u001b[0m\u001b[0;34m:\u001b[0m\u001b[0;34m\u001b[0m\u001b[0;34m\u001b[0m\u001b[0m\n\u001b[1;32m   2495\u001b[0m             \u001b[0;32mreturn\u001b[0m \u001b[0mptp\u001b[0m\u001b[0;34m(\u001b[0m\u001b[0maxis\u001b[0m\u001b[0;34m=\u001b[0m\u001b[0maxis\u001b[0m\u001b[0;34m,\u001b[0m \u001b[0mout\u001b[0m\u001b[0;34m=\u001b[0m\u001b[0mout\u001b[0m\u001b[0;34m,\u001b[0m \u001b[0;34m**\u001b[0m\u001b[0mkwargs\u001b[0m\u001b[0;34m)\u001b[0m\u001b[0;34m\u001b[0m\u001b[0;34m\u001b[0m\u001b[0m\n\u001b[0;32m-> 2496\u001b[0;31m     \u001b[0;32mreturn\u001b[0m \u001b[0m_methods\u001b[0m\u001b[0;34m.\u001b[0m\u001b[0m_ptp\u001b[0m\u001b[0;34m(\u001b[0m\u001b[0ma\u001b[0m\u001b[0;34m,\u001b[0m \u001b[0maxis\u001b[0m\u001b[0;34m=\u001b[0m\u001b[0maxis\u001b[0m\u001b[0;34m,\u001b[0m \u001b[0mout\u001b[0m\u001b[0;34m=\u001b[0m\u001b[0mout\u001b[0m\u001b[0;34m,\u001b[0m \u001b[0;34m**\u001b[0m\u001b[0mkwargs\u001b[0m\u001b[0;34m)\u001b[0m\u001b[0;34m\u001b[0m\u001b[0;34m\u001b[0m\u001b[0m\n\u001b[0m\u001b[1;32m   2497\u001b[0m \u001b[0;34m\u001b[0m\u001b[0m\n\u001b[1;32m   2498\u001b[0m \u001b[0;34m\u001b[0m\u001b[0m\n",
      "\u001b[0;32m/usr/local/lib/python3.7/site-packages/numpy/core/_methods.py\u001b[0m in \u001b[0;36m_ptp\u001b[0;34m(a, axis, out, keepdims)\u001b[0m\n\u001b[1;32m    228\u001b[0m \u001b[0;32mdef\u001b[0m \u001b[0m_ptp\u001b[0m\u001b[0;34m(\u001b[0m\u001b[0ma\u001b[0m\u001b[0;34m,\u001b[0m \u001b[0maxis\u001b[0m\u001b[0;34m=\u001b[0m\u001b[0;32mNone\u001b[0m\u001b[0;34m,\u001b[0m \u001b[0mout\u001b[0m\u001b[0;34m=\u001b[0m\u001b[0;32mNone\u001b[0m\u001b[0;34m,\u001b[0m \u001b[0mkeepdims\u001b[0m\u001b[0;34m=\u001b[0m\u001b[0;32mFalse\u001b[0m\u001b[0;34m)\u001b[0m\u001b[0;34m:\u001b[0m\u001b[0;34m\u001b[0m\u001b[0;34m\u001b[0m\u001b[0m\n\u001b[1;32m    229\u001b[0m     return um.subtract(\n\u001b[0;32m--> 230\u001b[0;31m         \u001b[0mumr_maximum\u001b[0m\u001b[0;34m(\u001b[0m\u001b[0ma\u001b[0m\u001b[0;34m,\u001b[0m \u001b[0maxis\u001b[0m\u001b[0;34m,\u001b[0m \u001b[0;32mNone\u001b[0m\u001b[0;34m,\u001b[0m \u001b[0mout\u001b[0m\u001b[0;34m,\u001b[0m \u001b[0mkeepdims\u001b[0m\u001b[0;34m)\u001b[0m\u001b[0;34m,\u001b[0m\u001b[0;34m\u001b[0m\u001b[0;34m\u001b[0m\u001b[0m\n\u001b[0m\u001b[1;32m    231\u001b[0m         \u001b[0mumr_minimum\u001b[0m\u001b[0;34m(\u001b[0m\u001b[0ma\u001b[0m\u001b[0;34m,\u001b[0m \u001b[0maxis\u001b[0m\u001b[0;34m,\u001b[0m \u001b[0;32mNone\u001b[0m\u001b[0;34m,\u001b[0m \u001b[0;32mNone\u001b[0m\u001b[0;34m,\u001b[0m \u001b[0mkeepdims\u001b[0m\u001b[0;34m)\u001b[0m\u001b[0;34m,\u001b[0m\u001b[0;34m\u001b[0m\u001b[0;34m\u001b[0m\u001b[0m\n\u001b[1;32m    232\u001b[0m         \u001b[0mout\u001b[0m\u001b[0;34m\u001b[0m\u001b[0;34m\u001b[0m\u001b[0m\n",
      "\u001b[0;31mValueError\u001b[0m: zero-size array to reduction operation maximum which has no identity"
     ]
    }
   ],
   "source": [
    "rdd_estimate(df.sample(8000))"
   ]
  },
  {
   "cell_type": "code",
   "execution_count": 267,
   "metadata": {},
   "outputs": [],
   "source": [
    "def rdd_fuzzy(data,h):\n",
    "    data = data[data[\"x\"].abs()<=h]\n",
    "    da = data[data['x']>0]\n",
    "    db = data[data['x']<=0]\n",
    "    denom = da['y'].mean() - db['y'].mean()\n",
    "    num = da['t'].mean() - db['t'].mean() \n",
    "    print(denom)\n",
    "    print(num)\n",
    "    est = (da['y'].mean() - db['y'].mean())/(da['t'].mean() - db['t'].mean())\n",
    "    return est "
   ]
  },
  {
   "cell_type": "markdown",
   "metadata": {
    "colab_type": "text",
    "id": "O20NAjXC3Zws"
   },
   "source": [
    "Finally, we can examine our generated data with the `compare_dfs` function.\n"
   ]
  },
  {
   "cell_type": "code",
   "execution_count": 30,
   "metadata": {},
   "outputs": [],
   "source": [
    "def rdd_estimate(data):\n",
    "    bandwidth_opt = rdd.optimal_bandwidth(data['y'], data['x'], cut=0) \n",
    "    print(bandwidth_opt)\n",
    "    data_rdd = rdd.truncated_data(data, 'x', bandwidth_opt, cut=0) \n",
    "    model = rdd.rdd(data_rdd, 'x', 'y', cut=0)\n",
    "    return model.fit().params[1]"
   ]
  },
  {
   "cell_type": "code",
   "execution_count": 99,
   "metadata": {},
   "outputs": [],
   "source": [
    "# Option 2: load trained model parameters\n",
    "def load_saved_parameters(type):\n",
    "    for model, name in zip([generatorx, criticx,\n",
    "                          generatorya, criticya,\n",
    "                          generatoryb, criticyb, \n",
    "                          generatorta, criticta,\n",
    "                          generatortb, critictb], \n",
    "                         [\"Gx\",\"Cx\",\"Gya\",\"Cya\",\"Gyb\",\"Cyb\",\"Gta\",\"Cta\",\"Gtb\",\"Ctb\"]):\n",
    "        state_dict = torch.load(\"trained_models/\" + name + \"_{}.pth\".format(type))\n",
    "        model.load_state_dict(state_dict)\n",
    "\n",
    "load_saved_parameters(\"mats_math\")"
   ]
  },
  {
   "cell_type": "code",
   "execution_count": 102,
   "metadata": {
    "colab": {},
    "colab_type": "code",
    "id": "8V6ds_a7RMzY"
   },
   "outputs": [],
   "source": [
    "def evaluate_results():\n",
    "  # Let's print the att!\n",
    "  print(\"--------------------RDD--------------------\")\n",
    "  #print(\"real:\",rdd_estimate(df)) \n",
    "  #print(\"fake:\",rdd_estimate(df_fake))\n",
    "\n",
    "  # Now, we'll compare our fake data to the real data\n",
    "  table_groupby = [\"t\"]\n",
    "  scatterplot = dict(x= [\"x\"],\n",
    "                     y= [\"y\"],\n",
    "                     samples = 5000, smooth = 1)\n",
    "  histogram = dict(variables=['x','y','x','t'],\n",
    "                   nrow=2, ncol=2)\n",
    "  wgan.compare_dfs(df, df_fake, figsize=5, histogram=histogram, scatterplot=scatterplot)\n"
   ]
  },
  {
   "cell_type": "code",
   "execution_count": 110,
   "metadata": {
    "colab": {
     "base_uri": "https://localhost:8080/",
     "height": 1000
    },
    "colab_type": "code",
    "id": "U1aEaBrz28Xv",
    "outputId": "cfec271e-09df-4e47-8de3-c94fa0c46f12"
   },
   "outputs": [
    {
     "name": "stdout",
     "output_type": "stream",
     "text": [
      "--------------------RDD--------------------\n",
      "-------------comparison of means-------------\n",
      "source   fake   real\n",
      "y        0.10   0.00\n",
      "x       16.19  14.90\n",
      "t        0.21   0.22\n",
      "-------------comparison of stds-------------\n",
      "source   fake   real\n",
      "y        0.79   1.00\n",
      "x       33.22  41.23\n",
      "t        0.41   0.42\n"
     ]
    },
    {
     "data": {
      "image/png": "[encoded data removed]",
      "text/plain": [
       "<Figure size 720x360 with 2 Axes>"
      ]
     },
     "metadata": {
      "needs_background": "light"
     },
     "output_type": "display_data"
    },
    {
     "data": {
      "image/png": "[encoded data removed]",
      "text/plain": [
       "<Figure size 720x720 with 4 Axes>"
      ]
     },
     "metadata": {
      "needs_background": "light"
     },
     "output_type": "display_data"
    },
    {
     "data": {
      "image/png": "[encoded data removed]",
      "text/plain": [
       "<Figure size 360x360 with 1 Axes>"
      ]
     },
     "metadata": {
      "needs_background": "light"
     },
     "output_type": "display_data"
    }
   ],
   "source": [
    "evaluate_results()"
   ]
  },
  {
   "cell_type": "markdown",
   "metadata": {
    "colab_type": "text",
    "id": "yvccbLta8zAi"
   },
   "source": [
    "Looks good enough? Then save the models, generate a large dataframe and export it."
   ]
  },
  {
   "cell_type": "code",
   "execution_count": 296,
   "metadata": {
    "colab": {},
    "colab_type": "code",
    "id": "wM1LhyLG99po"
   },
   "outputs": [],
   "source": [
    "# save trained model parameters\n",
    "def save_trained_parameters(type):\n",
    "  #%mkdir trained_models\n",
    "  for model, name in zip([generatorx, criticx,\n",
    "                          generatorya, criticya,\n",
    "                          generatoryb, criticyb, \n",
    "                          generatorta, criticta,\n",
    "                          generatortb, critictb,], \n",
    "                         [\"Gx\",\"Cx\",\"Gya\",\"Cya\",\"Gyb\",\"Cyb\",\"Gta\",\"Cta\",\"Gtb\",\"Ctb\"]):\n",
    "    torch.save(model.state_dict(), \"trained_models/\" + name + \"_{}.pth\".format(type))"
   ]
  },
  {
   "cell_type": "code",
   "execution_count": 297,
   "metadata": {
    "colab": {},
    "colab_type": "code",
    "id": "TyfDEFycRHZ3"
   },
   "outputs": [],
   "source": [
    "save_trained_parameters(\"mats_math\")"
   ]
  },
  {
   "cell_type": "code",
   "execution_count": 112,
   "metadata": {
    "colab": {},
    "colab_type": "code",
    "id": "aXTqCRL688Zw"
   },
   "outputs": [],
   "source": [
    "# generate and save data of a certain sample size\n",
    "def save_generated_data(type,n):\n",
    "    s = df.sample(int(n),replace=True)\n",
    "    df_fake = apply_models(s)\n",
    "    df_fake.to_feather(\"data/generated/{}_generated.feather\".format(type))"
   ]
  },
  {
   "cell_type": "code",
   "execution_count": 300,
   "metadata": {},
   "outputs": [
    {
     "data": {
      "text/plain": [
       "47589"
      ]
     },
     "execution_count": 300,
     "metadata": {},
     "output_type": "execute_result"
    }
   ],
   "source": [
    "dfa.shape[0]"
   ]
  },
  {
   "cell_type": "code",
   "execution_count": 114,
   "metadata": {
    "colab": {},
    "colab_type": "code",
    "id": "Lj8mrJfERiKX"
   },
   "outputs": [],
   "source": [
    "save_generated_data(\"mats_math\",10000000)"
   ]
  },
  {
   "cell_type": "markdown",
   "metadata": {
    "colab_type": "text",
    "id": "BaLtw7QN7UWu"
   },
   "source": [
    "### Generating Figures"
   ]
  },
  {
   "cell_type": "code",
   "execution_count": 401,
   "metadata": {},
   "outputs": [],
   "source": [
    "gen_data1 = df_fake[df_fake[\"x\"]>0].copy()\n",
    "real_data1 = df[df[\"x\"]>0].copy() \n",
    "\n",
    "gen_data2 = df_fake[df_fake[\"x\"]<=0].copy()\n",
    "real_data2 = df[df[\"x\"]<=0].copy() "
   ]
  },
  {
   "cell_type": "code",
   "execution_count": 403,
   "metadata": {},
   "outputs": [
    {
     "data": {
      "image/png": "[encoded data removed]",
      "text/plain": [
       "<Figure size 720x288 with 2 Axes>"
      ]
     },
     "metadata": {
      "needs_background": "light"
     },
     "output_type": "display_data"
    }
   ],
   "source": [
    "fig1, axarr = plt.subplots(1,2,figsize=(10, 4))\n",
    "axarr[0].hist([real_data1[\"y\"],gen_data1[\"y\"]], bins=8, density=1,\n",
    "                histtype='bar', label=[\"real\", \"fake\"], color=[\"blue\", \"red\"])\n",
    "axarr[1].hist([real_data2[\"y\"],gen_data2[\"y\"]],bins=9,density=1,histtype='bar',\n",
    "                  label=[\"real\",\"fake\"], color=[\"blue\",\"red\"])\n",
    "axarr[0].legend(prop={\"size\": 10})\n",
    "axarr[0].set_title(\"y | x>0\")\n",
    "\n",
    "axarr[1].legend(prop={\"size\": 10})\n",
    "axarr[1].set_title(\"y | x<=0 \")\n",
    "fig1.savefig(\"y_splithist.pdf\")"
   ]
  },
  {
   "cell_type": "code",
   "execution_count": 404,
   "metadata": {},
   "outputs": [
    {
     "data": {
      "image/png": "[encoded data removed]",
      "text/plain": [
       "<Figure size 720x288 with 2 Axes>"
      ]
     },
     "metadata": {
      "needs_background": "light"
     },
     "output_type": "display_data"
    }
   ],
   "source": [
    "fig2, axarr = plt.subplots(1,2,figsize=(10, 4))\n",
    "axarr[0].hist([df[\"y\"],df_fake[\"y\"]], bins=8, density=1,\n",
    "                histtype='bar', label=[\"real\", \"fake\"], color=[\"blue\", \"red\"])\n",
    "axarr[1].hist([df[\"x\"],df_fake[\"x\"]],bins=9,density=1,histtype='bar',\n",
    "                  label=[\"real\",\"fake\"], color=[\"blue\",\"red\"])\n",
    "axarr[0].legend(prop={\"size\": 10})\n",
    "axarr[0].set_title(\"y\")\n",
    "\n",
    "axarr[1].legend(prop={\"size\": 10})\n",
    "axarr[1].set_title(\"x \")\n",
    "fig2.savefig(\"uncond_hist.pdf\")"
   ]
  },
  {
   "cell_type": "code",
   "execution_count": null,
   "metadata": {},
   "outputs": [],
   "source": [
    "fig=plt.figure() \n",
    "ax=fig.add_axes([0,0,1,1])\n",
    "ax.scatter(context2b.numpy(),x2b.numpy(), color='b')\n",
    "ax.scatter(context2a.numpy(),x2a.numpy(), color='r')\n",
    "\n",
    "\n",
    "fig=plt.figure() \n",
    "ax=fig.add_axes([0,0,1,1])\n",
    "ax.scatter(dfa['x'],dfa['y'], color='r')\n",
    "ax.scatter(dfb['x'],dfb['y'], color='b')\n",
    "\n",
    "u_da = data_wrapper2.deprocess(x2a,context2a)\n",
    "u_db = data_wrapper2.deprocess(x2b,context2b)\n",
    "\n",
    "fig=plt.figure() \n",
    "ax=fig.add_axes([0,0,1,1])\n",
    "ax.scatter(u_da['x'],u_da['y'], color='r')\n",
    "ax.scatter(u_db['x'],u_db['y'], color='b')\n",
    "\n"
   ]
  },
  {
   "cell_type": "markdown",
   "metadata": {},
   "source": [
    "## Generate joint"
   ]
  },
  {
   "cell_type": "code",
   "execution_count": null,
   "metadata": {},
   "outputs": [],
   "source": [
    "dwj = wgan.DataWrapper(dfs,[\"y\"],context_vars=[\"x\"])\n",
    "specs  = wgan.Specifications(dwj,\n",
    "                              batch_size=500,\n",
    "                              max_epochs=500,\n",
    "                              generator_d_noise=3,\n",
    "                              critic_d_hidden=[128,128,128],\n",
    "                              generator_d_hidden=[64,64,64],\n",
    "                              critic_gp_factor=5, \n",
    "                              print_every=100,\n",
    "                              generator_dropout=dropout)\n",
    "x,context = dwj.preprocess(dfs)\n",
    "generatorj = wgan.Generator(specs)\n",
    "criticj = wgan.Critic(specs)"
   ]
  }
 ],
 "metadata": {
  "accelerator": "GPU",
  "colab": {
   "collapsed_sections": [],
   "machine_shape": "hm",
   "name": "RDD_tutorial.ipynb",
   "provenance": []
  },
  "kernelspec": {
   "display_name": "Python 3",
   "language": "python",
   "name": "python3"
  },
  "language_info": {
   "codemirror_mode": {
    "name": "ipython",
    "version": 3
   },
   "file_extension": ".py",
   "mimetype": "text/x-python",
   "name": "python",
   "nbconvert_exporter": "python",
   "pygments_lexer": "ipython3",
   "version": "3.7.4"
  }
 },
 "nbformat": 4,
 "nbformat_minor": 1
}
