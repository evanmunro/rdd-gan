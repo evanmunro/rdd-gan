{
 "cells": [
  {
   "cell_type": "code",
   "execution_count": 2,
   "metadata": {},
   "outputs": [],
   "source": [
    "using CSV, JuMP, Ipopt, Statistics, Distributions, \n",
    "      Plots, GLM, DataFrames, Suppressor"
   ]
  },
  {
   "cell_type": "code",
   "execution_count": 3,
   "metadata": {},
   "outputs": [
    {
     "data": {
      "text/plain": [
       "RDData"
      ]
     },
     "execution_count": 3,
     "metadata": {},
     "output_type": "execute_result"
    }
   ],
   "source": [
    "struct RDData\n",
    "    y::Array{Float64}\n",
    "    x::Array{Float64}\n",
    "    M::Float64\n",
    "    sig2::Float64 \n",
    "    xx::Array\n",
    "    d::Int\n",
    "    mu::Array\n",
    "    n::Array\n",
    "    h::Float64\n",
    "    c0::Int\n",
    "    c1::Int\n",
    "end\n",
    "\n",
    "function RDData(y, x, M) \n",
    "    xx = sort!(unique(x))\n",
    "    d = length(xx) \n",
    "    c0 = argmin(abs.(xx))\n",
    "    c1 = c0 + 1 \n",
    "    h = minimum(xx[2:d].- xx[1:(d-1)])\n",
    "    data = DataFrame(y=y, x=x, w= x.>0)\n",
    "    yhat = predict(lm(@formula(y~x*w),data))\n",
    "    sig2 = mean((data[:y] - yhat).^2) * length(data[:x]) / (length(data[:x]) - 4)\n",
    "    \n",
    "    mu = zeros(d)\n",
    "    n = zeros(d)\n",
    "    \n",
    "    for i in 1:d\n",
    "        mu[i] = mean(y[x.==xx[i]])\n",
    "        n[i] = length(x[x.==xx[i]])\n",
    "    end\n",
    "    return RDData(y, x, M, sig2, xx, d, mu, n, h, c0, c1)\n",
    "end"
   ]
  },
  {
   "cell_type": "code",
   "execution_count": 94,
   "metadata": {},
   "outputs": [
    {
     "name": "stdout",
     "output_type": "stream",
     "text": [
      "-0.27294808395199016\n",
      "This is Ipopt version 3.12.10, running with linear solver mumps.\n",
      "NOTE: Other linear solvers might be more efficient (see Ipopt documentation).\n",
      "\n",
      "Number of nonzeros in equality constraint Jacobian...:       68\n",
      "Number of nonzeros in inequality constraint Jacobian.:  4693068\n",
      "Number of nonzeros in Lagrangian Hessian.............:  2346000\n",
      "\n",
      "Total number of variables............................:       69\n",
      "                     variables with only lower bounds:        0\n",
      "                variables with lower and upper bounds:        0\n",
      "                     variables with only upper bounds:        0\n",
      "Total number of equality constraints.................:        2\n",
      "Total number of inequality constraints...............:     1068\n",
      "        inequality constraints with only lower bounds:     1027\n",
      "   inequality constraints with lower and upper bounds:        0\n",
      "        inequality constraints with only upper bounds:       41\n",
      "\n",
      "iter    objective    inf_pr   inf_du lg(mu)  ||d||  lg(rg) alpha_du alpha_pr  ls\n",
      "   0  0.0000000e+00 1.00e+00 1.07e+00  -1.0 0.00e+00    -  0.00e+00 0.00e+00   0\n",
      "   1  3.5642754e-02 4.40e-01 4.08e+00  -1.0 1.00e-01    -  9.72e-01 9.88e-01f  1\n",
      "   2  4.5182662e-01 1.04e-01 6.05e+01  -1.0 4.49e+00    -  3.79e-02 9.27e-02f  1\n",
      "   3  7.6053016e-01 1.01e-02 1.10e+03  -1.0 3.61e+00    -  4.52e-01 1.00e-01f  1\n",
      "   4  3.9446006e+00 5.21e-03 3.51e+02  -1.0 6.55e+00    -  1.27e-01 4.86e-01f  1\n",
      "   5  7.3212093e+00 2.74e-03 1.06e+03  -1.0 7.12e+00    -  8.31e-01 4.74e-01f  1\n",
      "   6  3.3717898e+01 2.76e-04 2.63e+03  -1.0 2.94e+01    -  2.26e-01 8.99e-01f  1\n",
      "   7  5.1378639e+01 8.01e-05 1.23e+03  -1.0 2.49e+01    -  1.00e+00 7.10e-01f  1\n",
      "   8  1.0001003e+02 0.00e+00 1.52e+02  -1.0 4.86e+01    -  7.87e-01 1.00e+00f  1\n",
      "   9  1.0001078e+02 3.33e-16 1.00e-06  -1.0 7.53e-04    -  1.00e+00 1.00e+00h  1\n",
      "iter    objective    inf_pr   inf_du lg(mu)  ||d||  lg(rg) alpha_du alpha_pr  ls\n",
      "  10  3.0152608e+00 2.22e-16 2.83e-08  -2.5 9.70e+01    -  1.00e+00 1.00e+00f  1\n",
      "  11  1.9991506e-01 0.00e+00 1.83e+01  -3.8 2.82e+00    -  9.33e-01 1.00e+00f  1\n",
      "  12  1.9631859e-01 0.00e+00 1.50e-09  -3.8 3.60e-03    -  1.00e+00 1.00e+00h  1\n",
      "  13  1.9591438e-01 2.22e-16 1.50e-09  -3.8 5.69e-04    -  1.00e+00 1.00e+00h  1\n",
      "  14  5.4293637e-02 2.25e-04 1.71e+00  -5.7 1.50e-01    -  8.27e-01 9.45e-01h  1\n",
      "  15  5.5066146e-02 0.00e+00 3.83e-02  -5.7 1.43e-03    -  9.65e-01 9.79e-01H  1\n",
      "  16  5.3756771e-02 1.11e-16 1.84e-11  -5.7 1.31e-03    -  1.00e+00 1.00e+00h  1\n",
      "  17  5.3654625e-02 2.22e-16 1.84e-11  -5.7 1.11e-04    -  1.00e+00 1.00e+00h  1\n",
      "  18  5.3611192e-02 9.16e-06 6.60e-02  -8.6 3.72e-04    -  9.82e-01 7.33e-01h  1\n",
      "  19  5.3613506e-02 1.58e-06 1.17e-13  -8.6 1.04e-04    -  1.00e+00 1.00e+00h  1\n",
      "iter    objective    inf_pr   inf_du lg(mu)  ||d||  lg(rg) alpha_du alpha_pr  ls\n",
      "  20  5.3614984e-02 1.78e-08 6.75e-14  -8.6 1.48e-06    -  1.00e+00 1.00e+00h  1\n",
      "  21  5.3614996e-02 5.08e-10 7.64e-14  -8.6 4.90e-07    -  1.00e+00 1.00e+00h  1\n",
      "\n",
      "Number of Iterations....: 21\n",
      "\n",
      "                                   (scaled)                 (unscaled)\n",
      "Objective...............:   5.3614995890317117e-02    5.3614995890317117e-02\n",
      "Dual infeasibility......:   7.6383344094210770e-14    7.6383344094210770e-14\n",
      "Constraint violation....:   5.0816684193932815e-10    5.0816684193932815e-10\n",
      "Complementarity.........:   8.5346350686212702e-09    8.5346350686212702e-09\n",
      "Overall NLP error.......:   8.5346350686212702e-09    8.5346350686212702e-09\n",
      "\n",
      "\n",
      "Number of objective function evaluations             = 23\n",
      "Number of objective gradient evaluations             = 22\n",
      "Number of equality constraint evaluations            = 23\n",
      "Number of inequality constraint evaluations          = 23\n",
      "Number of equality constraint Jacobian evaluations   = 22\n",
      "Number of inequality constraint Jacobian evaluations = 22\n",
      "Number of Lagrangian Hessian evaluations             = 21\n",
      "Total CPU secs in IPOPT (w/o function evaluations)   =      9.468\n",
      "Total CPU secs in NLP function evaluations           =      0.489\n",
      "\n",
      "EXIT: Optimal Solution Found.\n"
     ]
    },
    {
     "data": {
      "text/plain": [
       "68-element Array{Float64,1}:\n",
       " -8.205680620310735e-9  \n",
       " -7.045785345792088e-9  \n",
       " -6.803480912690512e-9  \n",
       "  7.393237225034875e-10 \n",
       " -6.901431897374719e-9  \n",
       "  9.025916284358798e-6  \n",
       " -8.218048318097828e-9  \n",
       "  1.9083903137631823e-6 \n",
       "  2.0162583939890966e-5 \n",
       "  1.6681398159520428e-5 \n",
       "  2.9044550795662933e-5 \n",
       " -8.241878744825698e-9  \n",
       "  3.0817920679700345e-5 \n",
       "  ⋮                     \n",
       " -0.00011383344644036342\n",
       " -9.496976567749422e-5  \n",
       " -0.0001349361331974555 \n",
       " -0.00039226532908358816\n",
       " -0.0002122517581774896 \n",
       " -0.0004342500403884898 \n",
       " -0.0008058242089796877 \n",
       " -0.00176247207974419   \n",
       " -0.002576703041398859  \n",
       " -0.002969321887130581  \n",
       " -0.013677416821498764  \n",
       " -0.007149344520123104  "
      ]
     },
     "execution_count": 94,
     "metadata": {},
     "output_type": "execute_result"
    }
   ],
   "source": [
    "data = CSV.read(\"data/cleaned/jl_math.csv\")\n",
    "M = 1.74\n",
    "rd = RDData(data[:y], data[:x], 1.74)\n",
    "vg = optimize_weights(rd, 1000)"
   ]
  },
  {
   "cell_type": "code",
   "execution_count": 95,
   "metadata": {},
   "outputs": [
    {
     "data": {
      "image/svg+xml": [
       "<?xml version=\"1.0\" encoding=\"utf-8\"?>\n",
       "<svg xmlns=\"http://www.w3.org/2000/svg\" xmlns:xlink=\"http://www.w3.org/1999/xlink\" width=\"600\" height=\"400\" viewBox=\"0 0 2400 1600\">\n",
       "<defs>\n",
       "  <clipPath id=\"clip560\">\n",
       "    <rect x=\"0\" y=\"0\" width=\"2400\" height=\"1600\"/>\n",
       "  </clipPath>\n",
       "</defs>\n",
       "<path clip-path=\"url(#clip560)\" d=\"\n",
       "M0 1600 L2400 1600 L2400 0 L0 0  Z\n",
       "  \" fill=\"#ffffff\" fill-rule=\"evenodd\" fill-opacity=\"1\"/>\n",
       "<defs>\n",
       "  <clipPath id=\"clip561\">\n",
       "    <rect x=\"480\" y=\"0\" width=\"1681\" height=\"1600\"/>\n",
       "  </clipPath>\n",
       "</defs>\n",
       "<path clip-path=\"url(#clip560)\" d=\"\n",
       "M269.791 1503.47 L2321.26 1503.47 L2321.26 47.2441 L269.791 47.2441  Z\n",
       "  \" fill=\"#ffffff\" fill-rule=\"evenodd\" fill-opacity=\"1\"/>\n",
       "<defs>\n",
       "  <clipPath id=\"clip562\">\n",
       "    <rect x=\"269\" y=\"47\" width=\"2052\" height=\"1457\"/>\n",
       "  </clipPath>\n",
       "</defs>\n",
       "<polyline clip-path=\"url(#clip562)\" style=\"stroke:#000000; stroke-width:1.6; stroke-opacity:0.1; fill:none\" points=\"\n",
       "  742.569,1503.47 742.569,47.2441 \n",
       "  \"/>\n",
       "<polyline clip-path=\"url(#clip562)\" style=\"stroke:#000000; stroke-width:1.6; stroke-opacity:0.1; fill:none\" points=\"\n",
       "  1245.26,1503.47 1245.26,47.2441 \n",
       "  \"/>\n",
       "<polyline clip-path=\"url(#clip562)\" style=\"stroke:#000000; stroke-width:1.6; stroke-opacity:0.1; fill:none\" points=\"\n",
       "  1747.94,1503.47 1747.94,47.2441 \n",
       "  \"/>\n",
       "<polyline clip-path=\"url(#clip562)\" style=\"stroke:#000000; stroke-width:1.6; stroke-opacity:0.1; fill:none\" points=\"\n",
       "  2250.63,1503.47 2250.63,47.2441 \n",
       "  \"/>\n",
       "<polyline clip-path=\"url(#clip562)\" style=\"stroke:#000000; stroke-width:1.6; stroke-opacity:0.1; fill:none\" points=\"\n",
       "  269.791,1344.31 2321.26,1344.31 \n",
       "  \"/>\n",
       "<polyline clip-path=\"url(#clip562)\" style=\"stroke:#000000; stroke-width:1.6; stroke-opacity:0.1; fill:none\" points=\"\n",
       "  269.791,1093.88 2321.26,1093.88 \n",
       "  \"/>\n",
       "<polyline clip-path=\"url(#clip562)\" style=\"stroke:#000000; stroke-width:1.6; stroke-opacity:0.1; fill:none\" points=\"\n",
       "  269.791,843.448 2321.26,843.448 \n",
       "  \"/>\n",
       "<polyline clip-path=\"url(#clip562)\" style=\"stroke:#000000; stroke-width:1.6; stroke-opacity:0.1; fill:none\" points=\"\n",
       "  269.791,593.015 2321.26,593.015 \n",
       "  \"/>\n",
       "<polyline clip-path=\"url(#clip562)\" style=\"stroke:#000000; stroke-width:1.6; stroke-opacity:0.1; fill:none\" points=\"\n",
       "  269.791,342.582 2321.26,342.582 \n",
       "  \"/>\n",
       "<polyline clip-path=\"url(#clip562)\" style=\"stroke:#000000; stroke-width:1.6; stroke-opacity:0.1; fill:none\" points=\"\n",
       "  269.791,92.1486 2321.26,92.1486 \n",
       "  \"/>\n",
       "<polyline clip-path=\"url(#clip560)\" style=\"stroke:#000000; stroke-width:3.2; stroke-opacity:1; fill:none\" points=\"\n",
       "  269.791,1503.47 2321.26,1503.47 \n",
       "  \"/>\n",
       "<polyline clip-path=\"url(#clip560)\" style=\"stroke:#000000; stroke-width:3.2; stroke-opacity:1; fill:none\" points=\"\n",
       "  269.791,1503.47 269.791,47.2441 \n",
       "  \"/>\n",
       "<polyline clip-path=\"url(#clip560)\" style=\"stroke:#000000; stroke-width:3.2; stroke-opacity:1; fill:none\" points=\"\n",
       "  742.569,1503.47 742.569,1481.63 \n",
       "  \"/>\n",
       "<polyline clip-path=\"url(#clip560)\" style=\"stroke:#000000; stroke-width:3.2; stroke-opacity:1; fill:none\" points=\"\n",
       "  1245.26,1503.47 1245.26,1481.63 \n",
       "  \"/>\n",
       "<polyline clip-path=\"url(#clip560)\" style=\"stroke:#000000; stroke-width:3.2; stroke-opacity:1; fill:none\" points=\"\n",
       "  1747.94,1503.47 1747.94,1481.63 \n",
       "  \"/>\n",
       "<polyline clip-path=\"url(#clip560)\" style=\"stroke:#000000; stroke-width:3.2; stroke-opacity:1; fill:none\" points=\"\n",
       "  2250.63,1503.47 2250.63,1481.63 \n",
       "  \"/>\n",
       "<polyline clip-path=\"url(#clip560)\" style=\"stroke:#000000; stroke-width:3.2; stroke-opacity:1; fill:none\" points=\"\n",
       "  269.791,1344.31 300.563,1344.31 \n",
       "  \"/>\n",
       "<polyline clip-path=\"url(#clip560)\" style=\"stroke:#000000; stroke-width:3.2; stroke-opacity:1; fill:none\" points=\"\n",
       "  269.791,1093.88 300.563,1093.88 \n",
       "  \"/>\n",
       "<polyline clip-path=\"url(#clip560)\" style=\"stroke:#000000; stroke-width:3.2; stroke-opacity:1; fill:none\" points=\"\n",
       "  269.791,843.448 300.563,843.448 \n",
       "  \"/>\n",
       "<polyline clip-path=\"url(#clip560)\" style=\"stroke:#000000; stroke-width:3.2; stroke-opacity:1; fill:none\" points=\"\n",
       "  269.791,593.015 300.563,593.015 \n",
       "  \"/>\n",
       "<polyline clip-path=\"url(#clip560)\" style=\"stroke:#000000; stroke-width:3.2; stroke-opacity:1; fill:none\" points=\"\n",
       "  269.791,342.582 300.563,342.582 \n",
       "  \"/>\n",
       "<polyline clip-path=\"url(#clip560)\" style=\"stroke:#000000; stroke-width:3.2; stroke-opacity:1; fill:none\" points=\"\n",
       "  269.791,92.1486 300.563,92.1486 \n",
       "  \"/>\n",
       "<g clip-path=\"url(#clip560)\">\n",
       "<text style=\"fill:#000000; fill-opacity:1; font-family:Arial,Helvetica Neue,Helvetica,sans-serif; font-size:48px; text-anchor:middle;\" transform=\"rotate(0, 742.569, 1557.47)\" x=\"742.569\" y=\"1557.47\">-2</text>\n",
       "</g>\n",
       "<g clip-path=\"url(#clip560)\">\n",
       "<text style=\"fill:#000000; fill-opacity:1; font-family:Arial,Helvetica Neue,Helvetica,sans-serif; font-size:48px; text-anchor:middle;\" transform=\"rotate(0, 1245.26, 1557.47)\" x=\"1245.26\" y=\"1557.47\">0</text>\n",
       "</g>\n",
       "<g clip-path=\"url(#clip560)\">\n",
       "<text style=\"fill:#000000; fill-opacity:1; font-family:Arial,Helvetica Neue,Helvetica,sans-serif; font-size:48px; text-anchor:middle;\" transform=\"rotate(0, 1747.94, 1557.47)\" x=\"1747.94\" y=\"1557.47\">2</text>\n",
       "</g>\n",
       "<g clip-path=\"url(#clip560)\">\n",
       "<text style=\"fill:#000000; fill-opacity:1; font-family:Arial,Helvetica Neue,Helvetica,sans-serif; font-size:48px; text-anchor:middle;\" transform=\"rotate(0, 2250.63, 1557.47)\" x=\"2250.63\" y=\"1557.47\">4</text>\n",
       "</g>\n",
       "<g clip-path=\"url(#clip560)\">\n",
       "<text style=\"fill:#000000; fill-opacity:1; font-family:Arial,Helvetica Neue,Helvetica,sans-serif; font-size:48px; text-anchor:end;\" transform=\"rotate(0, 245.791, 1361.81)\" x=\"245.791\" y=\"1361.81\">-0.0125</text>\n",
       "</g>\n",
       "<g clip-path=\"url(#clip560)\">\n",
       "<text style=\"fill:#000000; fill-opacity:1; font-family:Arial,Helvetica Neue,Helvetica,sans-serif; font-size:48px; text-anchor:end;\" transform=\"rotate(0, 245.791, 1111.38)\" x=\"245.791\" y=\"1111.38\">-0.0100</text>\n",
       "</g>\n",
       "<g clip-path=\"url(#clip560)\">\n",
       "<text style=\"fill:#000000; fill-opacity:1; font-family:Arial,Helvetica Neue,Helvetica,sans-serif; font-size:48px; text-anchor:end;\" transform=\"rotate(0, 245.791, 860.948)\" x=\"245.791\" y=\"860.948\">-0.0075</text>\n",
       "</g>\n",
       "<g clip-path=\"url(#clip560)\">\n",
       "<text style=\"fill:#000000; fill-opacity:1; font-family:Arial,Helvetica Neue,Helvetica,sans-serif; font-size:48px; text-anchor:end;\" transform=\"rotate(0, 245.791, 610.515)\" x=\"245.791\" y=\"610.515\">-0.0050</text>\n",
       "</g>\n",
       "<g clip-path=\"url(#clip560)\">\n",
       "<text style=\"fill:#000000; fill-opacity:1; font-family:Arial,Helvetica Neue,Helvetica,sans-serif; font-size:48px; text-anchor:end;\" transform=\"rotate(0, 245.791, 360.082)\" x=\"245.791\" y=\"360.082\">-0.0025</text>\n",
       "</g>\n",
       "<g clip-path=\"url(#clip560)\">\n",
       "<text style=\"fill:#000000; fill-opacity:1; font-family:Arial,Helvetica Neue,Helvetica,sans-serif; font-size:48px; text-anchor:end;\" transform=\"rotate(0, 245.791, 109.649)\" x=\"245.791\" y=\"109.649\">0.0000</text>\n",
       "</g>\n",
       "<polyline clip-path=\"url(#clip562)\" style=\"stroke:#009af9; stroke-width:3.2; stroke-opacity:1; fill:none\" points=\"\n",
       "  327.852,92.1495 579.195,92.1493 629.464,92.1493 654.599,92.1486 679.733,92.1493 704.867,91.2445 730.002,92.1495 755.136,91.9575 780.271,90.1289 805.405,90.4776 \n",
       "  830.539,89.2392 855.674,92.1495 880.808,89.0615 905.942,89.4 931.077,89.3451 956.211,88.7894 981.346,89.1199 1006.48,88.9235 1031.61,88.6446 1056.75,88.7688 \n",
       "  1081.88,88.5878 1107.02,88.5089 1132.15,89.2218 1157.29,88.5215 1182.42,88.5125 1207.56,88.4695 1232.69,88.4582 1257.82,94.1241 1282.96,94.1158 1308.09,94.0887 \n",
       "  1333.23,94.0788 1358.36,94.0836 1383.5,94.0741 1408.63,94.0636 1433.76,94.0607 1458.9,94.0594 1484.03,94.0605 1509.17,94.0618 1534.3,94.083 1559.44,94.0798 \n",
       "  1584.57,94.0922 1609.71,94.1622 1634.84,94.1512 1659.97,94.2076 1685.11,94.2277 1710.24,94.4787 1735.38,94.3496 1760.51,94.9471 1785.65,94.7254 1810.78,95.1376 \n",
       "  1835.91,95.8685 1861.05,95.2014 1886.18,97.4724 1911.32,97.8756 1936.45,97.3506 1961.59,98.6426 1986.72,103.552 2011.86,101.662 2036.99,105.666 2062.12,131.443 \n",
       "  2087.26,113.411 2112.39,135.649 2137.53,172.871 2162.66,268.701 2187.8,350.265 2212.93,389.595 2238.07,1462.26 2263.2,808.322 \n",
       "  \"/>\n",
       "<path clip-path=\"url(#clip560)\" d=\"\n",
       "M1958.43 251.724 L2249.26 251.724 L2249.26 130.764 L1958.43 130.764  Z\n",
       "  \" fill=\"#ffffff\" fill-rule=\"evenodd\" fill-opacity=\"1\"/>\n",
       "<polyline clip-path=\"url(#clip560)\" style=\"stroke:#000000; stroke-width:3.2; stroke-opacity:1; fill:none\" points=\"\n",
       "  1958.43,251.724 2249.26,251.724 2249.26,130.764 1958.43,130.764 1958.43,251.724 \n",
       "  \"/>\n",
       "<polyline clip-path=\"url(#clip560)\" style=\"stroke:#009af9; stroke-width:3.2; stroke-opacity:1; fill:none\" points=\"\n",
       "  1982.43,191.244 2126.43,191.244 \n",
       "  \"/>\n",
       "<g clip-path=\"url(#clip560)\">\n",
       "<text style=\"fill:#000000; fill-opacity:1; font-family:Arial,Helvetica Neue,Helvetica,sans-serif; font-size:48px; text-anchor:start;\" transform=\"rotate(0, 2150.43, 208.744)\" x=\"2150.43\" y=\"208.744\">y1</text>\n",
       "</g>\n",
       "</svg>\n"
      ]
     },
     "execution_count": 95,
     "metadata": {},
     "output_type": "execute_result"
    }
   ],
   "source": [
    "plot(rd.xx, vg)"
   ]
  },
  {
   "cell_type": "code",
   "execution_count": 81,
   "metadata": {},
   "outputs": [
    {
     "data": {
      "text/plain": [
       "1.0"
      ]
     },
     "execution_count": 81,
     "metadata": {},
     "output_type": "execute_result"
    }
   ],
   "source": [
    "sum(rd.n[1:rd.c0].*vg[1:rd.c0])\n",
    "#sum(rd.n[rd.c1:rd.d].*vg[rd.c1:rd.d])"
   ]
  },
  {
   "cell_type": "code",
   "execution_count": 96,
   "metadata": {},
   "outputs": [
    {
     "name": "stdout",
     "output_type": "stream",
     "text": [
      "-1.3965125653079051\n"
     ]
    }
   ],
   "source": [
    "println(sum(vg.*rd.mu.*rd.n))"
   ]
  },
  {
   "cell_type": "code",
   "execution_count": null,
   "metadata": {},
   "outputs": [],
   "source": [
    "mu, n = bin_subsample(data[:y], data[:x])"
   ]
  },
  {
   "cell_type": "code",
   "execution_count": 31,
   "metadata": {},
   "outputs": [
    {
     "data": {
      "text/plain": [
       "bin_subsample (generic function with 2 methods)"
      ]
     },
     "execution_count": 31,
     "metadata": {},
     "output_type": "execute_result"
    }
   ],
   "source": [
    "function bin_subsample(y, x, pct = 1)\n",
    "    xx = sort!(unique(x))\n",
    "    d = length(xx)\n",
    "    \n",
    "    ns = Int(floor(pct*length(y)))\n",
    "    sampled = rand(1:length(y), ns)\n",
    "    mu = zeros(d)\n",
    "    n = zeros(d)\n",
    "    ys = y[sampled]\n",
    "    xs = x[sampled] \n",
    "    for i in 1:d\n",
    "        if sum(xs.==xx[i]) >0 \n",
    "            mu[i] = mean(ys[xs.==xx[i]])\n",
    "            n[i] = length(xs[xs.==xx[i]])\n",
    "        end \n",
    "    end\n",
    "    return mu, n \n",
    "end"
   ]
  },
  {
   "cell_type": "code",
   "execution_count": 93,
   "metadata": {},
   "outputs": [
    {
     "data": {
      "text/plain": [
       "optimize_weights (generic function with 2 methods)"
      ]
     },
     "execution_count": 93,
     "metadata": {},
     "output_type": "execute_result"
    }
   ],
   "source": [
    "function optimize_weights(rd, S=100)\n",
    "    #first draw uniformly based on max and min possible \n",
    "    #values of mu\n",
    "    d = rd.d\n",
    "    bh1 = rd.M*rd.h^2 - rd.mu[rd.c1+1] + 2*rd.mu[rd.c1]\n",
    "    bl1 = -rd.M*rd.h^2 - rd.mu[rd.c1+1] + 2*rd.mu[rd.c1] \n",
    "    bh0 = 2*rd.mu[rd.c0] - rd.mu[rd.c0-1] + rd.h^2*rd.M\n",
    "    bl0 = 2*rd.mu[rd.c0] - rd.mu[rd.c0-1] - rd.h^2*rd.M \n",
    "    \n",
    "    mu0 = rand(Uniform(bl0, bh0), S)\n",
    "    mu1 = rand(Uniform(bl1, bh1), S) \n",
    "    \n",
    "    println(mean(mu1.-mu0))\n",
    "    model = Model(with_optimizer(Ipopt.Optimizer))\n",
    "    @variable(model, gamma[1:d])\n",
    "    @variable(model, t)\n",
    "    \n",
    "    #identification constraints (sum to 1)\n",
    "    @constraint(model, sum(rd.n[i]*gamma[i] for i in 1:rd.c0)==1)\n",
    "    @constraint(model, sum(rd.n[i]*gamma[i] for i in rd.c1:d)==-1)\n",
    "    #@constraint(model, sum(rd.n[i]*gamma[i]*rd.xx[i] for i in 1:d)==0)\n",
    "\n",
    "    @constraint(model, gamma[1:rd.c0].>=0)\n",
    "    @constraint(model, gamma[rd.c1:d].<=0)\n",
    "    for a in 1:d\n",
    "        if abs(a-rd.c0)>10\n",
    "            #@constraint(model, gamma[a]==0)\n",
    "        end\n",
    "    end\n",
    "    \n",
    "    for s in 1:S\n",
    "        mus, ns = bin_subsample(rd.y, rd.x)\n",
    "        @constraint(model, t >= 100*rd.sig2*sum(rd.n[i]*gamma[i]^2 for i in 1:d)\n",
    "            + (sum(rd.mu[i]*gamma[i]*rd.mu[i] for i in 1:d)-mu1[s]+mu0[s])^2)\n",
    "    end\n",
    "    \n",
    "    @NLobjective(model,Min,t) \n",
    "    optimize!(model)\n",
    "    vg = value.(gamma)\n",
    "    return vg \n",
    "\n",
    "end\n"
   ]
  },
  {
   "cell_type": "code",
   "execution_count": null,
   "metadata": {},
   "outputs": [],
   "source": []
  }
 ],
 "metadata": {
  "kernelspec": {
   "display_name": "Julia 1.1.0",
   "language": "julia",
   "name": "julia-1.1"
  },
  "language_info": {
   "file_extension": ".jl",
   "mimetype": "application/julia",
   "name": "julia",
   "version": "1.1.0"
  }
 },
 "nbformat": 4,
 "nbformat_minor": 2
}
