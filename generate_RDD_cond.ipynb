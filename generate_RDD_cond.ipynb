{
 "cells": [
  {
   "cell_type": "markdown",
   "metadata": {
    "colab_type": "text",
    "id": "TbYd_RfxRcvm"
   },
   "source": [
    "### Simulate RDD Data "
   ]
  },
  {
   "cell_type": "markdown",
   "metadata": {
    "colab_type": "text",
    "id": "6qWwhO18Rja6"
   },
   "source": [
    "# Make some choices"
   ]
  },
  {
   "cell_type": "markdown",
   "metadata": {
    "colab_type": "text",
    "id": "qpmre4mJi8hG"
   },
   "source": [
    "Running this cell will define the variables of interest, our hyperparameters and some training options.\n",
    "\n",
    "Make sure your Google Colab runtime has a GPU. You can turn this on via:\n",
    "\n",
    "`Runtime -> Change Runtime type -> Hardware Accelerator -> GPU`"
   ]
  },
  {
   "cell_type": "code",
   "execution_count": 3,
   "metadata": {
    "colab": {},
    "colab_type": "code",
    "id": "rWdPvOVfHTrU"
   },
   "outputs": [],
   "source": [
    "import wgan\n",
    "import torch\n",
    "import pandas as pd\n",
    "from rdd import rdd \n",
    "import numpy as np\n",
    "import importlib\n",
    "importlib.reload(wgan)\n",
    "#assert torch.cuda.is_available()\n",
    "\n",
    "#Generate X\n",
    "cont1 = [\"x\"] \n",
    "# Y | X \n",
    "cont2 = [\"y\"] \n",
    "text2 = [\"x\"] \n",
    "\n",
    "# \n",
    "\n",
    "lbound1 = {\"x\": -1}\n",
    "ubound1 = {\"x\": 1} \n",
    "lbound2 = {\"y\": 0}\n",
    "ubound2 = {\"y\": 1}\n",
    "\n",
    "# T | X "
   ]
  },
  {
   "cell_type": "markdown",
   "metadata": {
    "colab_type": "text",
    "id": "_Vr-KCGIRobm"
   },
   "source": [
    "### Lee data"
   ]
  },
  {
   "cell_type": "code",
   "execution_count": 30,
   "metadata": {
    "colab": {
     "base_uri": "https://localhost:8080/",
     "height": 54
    },
    "colab_type": "code",
    "id": "pBAlErpjurK6",
    "outputId": "66d93627-9cc5-48c7-95e4-fafb0931aafa"
   },
   "outputs": [
    {
     "name": "stdout",
     "output_type": "stream",
     "text": [
      "          x         y\n",
      "0  0.104869  0.580962\n",
      "1  0.139252  0.461058\n",
      "3  0.086822  0.584580\n",
      "4  0.399358  0.580286\n",
      "5  0.168077  0.624352\n",
      "settings: {'critic_d_hidden': [128, 128, 128], 'critic_dropout': 0, 'critic_steps': 15, 'critic_lr': 0.0005, 'critic_gp_factor': 5, 'generator_d_hidden': [64, 64, 64], 'generator_dropout': 0.1, 'generator_lr': 0.0005, 'generator_d_noise': 1, 'gaussian_similarity_penalty': None, 'optimizer': 'Adam', 'max_epochs': 1000, 'batch_size': 256, 'test_set_size': 16, 'load_checkpoint': None, 'save_checkpoint': None, 'save_every': 100, 'print_every': 100, 'device': 'cpu'}\n",
      "settings: {'critic_d_hidden': [256, 128, 64], 'critic_dropout': 0, 'critic_steps': 15, 'critic_lr': 0.0001, 'critic_gp_factor': 2, 'generator_d_hidden': [64, 64, 64], 'generator_dropout': 0.4, 'generator_lr': 0.0001, 'generator_d_noise': 1, 'gaussian_similarity_penalty': None, 'optimizer': 'AdamHD', 'max_epochs': 1000, 'batch_size': 512, 'test_set_size': 16, 'load_checkpoint': None, 'save_checkpoint': None, 'save_every': 100, 'print_every': 100, 'device': 'cpu'}\n",
      "settings: {'critic_d_hidden': [128, 128, 128], 'critic_dropout': 0, 'critic_steps': 15, 'critic_lr': 0.0001, 'critic_gp_factor': 0.5, 'generator_d_hidden': [64, 64, 64], 'generator_dropout': 0.3, 'generator_lr': 0.0001, 'generator_d_noise': 1, 'gaussian_similarity_penalty': None, 'optimizer': 'AdamHD', 'max_epochs': 1000, 'batch_size': 256, 'test_set_size': 16, 'load_checkpoint': None, 'save_checkpoint': None, 'save_every': 100, 'print_every': 100, 'device': 'cpu'}\n"
     ]
    }
   ],
   "source": [
    "file = \"data/cleaned/lee.csv\"\n",
    "df = pd.read_csv(file)\n",
    "\n",
    "dfa = df[df['x']>0].copy()\n",
    "print(dfa.head())\n",
    "\n",
    "dfb = df[df['x']<=0].copy()\n",
    "d= [64,64,64]\n",
    "dc=[128,128,128]\n",
    "\n",
    "data_wrapper1 = wgan.DataWrapper(df,cont1,continuous_lower_bounds=lbound1,\n",
    "                                              continuous_upper_bounds=ubound1)\n",
    "x1,context1 = data_wrapper1.preprocess(df)\n",
    "specs1 = wgan.Specifications(data_wrapper1,\n",
    "                             batch_size=256,\n",
    "                             max_epochs=1000,\n",
    "                             generator_lr = 0.0005, \n",
    "                              critic_lr = 0.0005, \n",
    "                              optimizer='Adam', \n",
    "                              critic_d_hidden=dc,\n",
    "                              generator_d_hidden=d,\n",
    "                               critic_gp_factor=5, \n",
    "                               print_every=100)\n",
    "#generator1 = wgan.Generator(specs1)\n",
    "#critic1 = wgan.Critic(specs1)\n",
    "\n",
    "\n",
    "data_wrapper2 = wgan.DataWrapper(df,cont2,context_vars=text2,continuous_lower_bounds=lbound2,\n",
    "                                              continuous_upper_bounds=ubound2,scale=False)\n",
    "x2a,context2a = data_wrapper2.preprocess(dfa)\n",
    "specs2a = wgan.Specifications(data_wrapper2,\n",
    "                              batch_size=512,\n",
    "                              max_epochs=1000,\n",
    "                              generator_d_noise=1,\n",
    "                              critic_d_hidden=[256,128,64],generator_d_hidden=d,critic_gp_factor=2, \n",
    "                                     print_every=100,generator_dropout=0.4)\n",
    "#generator2a = wgan.Generator(specs2a)\n",
    "#critic2a = wgan.Critic(specs2a)\n",
    "\n",
    "\n",
    "data_wrapper2b = wgan.DataWrapper(dfb,cont2,continuous_lower_bounds=lbound2,\n",
    "                                  continuous_upper_bounds=ubound2)\n",
    "x2b,context2b = data_wrapper2.preprocess(dfb)\n",
    "specifications2b = wgan.Specifications(data_wrapper2,batch_size=256,max_epochs=1000,generator_d_noise=1,\n",
    "                                       critic_d_hidden=dc,generator_d_hidden=d,critic_gp_factor=0.5,\n",
    "                                     print_every=100,generator_dropout=0.3)\n",
    "#generator2b = wgan.Generator(specifications2b)\n",
    "#critic2b = wgan.Critic(specifications2b)"
   ]
  },
  {
   "cell_type": "markdown",
   "metadata": {
    "colab_type": "text",
    "id": "DziP34SDjjce"
   },
   "source": [
    "Run the next cell to train the models. You can abort at any time to continue with the evaluation."
   ]
  },
  {
   "cell_type": "code",
   "execution_count": 31,
   "metadata": {
    "colab": {
     "base_uri": "https://localhost:8080/",
     "height": 51
    },
    "colab_type": "code",
    "id": "hA_TKeHxlpZ6",
    "outputId": "77858ebb-1555-405e-984d-f3246a59aa62"
   },
   "outputs": [
    {
     "name": "stdout",
     "output_type": "stream",
     "text": [
      "epoch 0 | step 27 | WD_test 0.09 | WD_train 0.21 | sec passed 0 |\n",
      "epoch 100 | step 2627 | WD_test 0.15 | WD_train 0.19 | sec passed 23 |\n",
      "epoch 200 | step 5227 | WD_test 0.48 | WD_train 0.27 | sec passed 24 |\n",
      "epoch 300 | step 7827 | WD_test 0.22 | WD_train 0.11 | sec passed 24 |\n",
      "epoch 400 | step 10427 | WD_test 0.14 | WD_train 0.26 | sec passed 24 |\n",
      "epoch 500 | step 13027 | WD_test 0.14 | WD_train -0.01 | sec passed 24 |\n",
      "epoch 600 | step 15627 | WD_test -0.14 | WD_train 0.19 | sec passed 24 |\n",
      "epoch 700 | step 18227 | WD_test -0.12 | WD_train 0.06 | sec passed 24 |\n",
      "epoch 800 | step 20827 | WD_test 0.25 | WD_train 0.17 | sec passed 24 |\n",
      "epoch 900 | step 23427 | WD_test 0.4 | WD_train 0.22 | sec passed 25 |\n"
     ]
    }
   ],
   "source": [
    "# Option 1: train from scratch\n",
    "wgan.train(generator1, critic1, x1, context1, specs1)\n",
    "#wgan.train(generator2a, critic2a, x2a, context2a, specs2a)\n",
    "#wgan.train(generator2b, critic2b, x2b, context2b, specifications2b)"
   ]
  },
  {
   "cell_type": "markdown",
   "metadata": {
    "colab_type": "text",
    "id": "QGevqD0tG0Da"
   },
   "source": [
    "Alternatively, you can load our pre-trained parameters:"
   ]
  },
  {
   "cell_type": "code",
   "execution_count": 7,
   "metadata": {
    "colab": {},
    "colab_type": "code",
    "id": "v_BXU6C0GaSY"
   },
   "outputs": [],
   "source": [
    "# Option 2: load trained model parameters\n",
    "def load_saved_parameters(type):\n",
    "  for model, name in zip([generator1, critic1,\n",
    "                          generator2a, critic2a, \n",
    "                          generator2b, critic2b], \n",
    "                         [\"G1\",\"C1\", \"G2a\",\"C2a\", \"G2b\", \"C2b\"]):\n",
    "      state_dict = torch.load(\"trained_models/\" + name + \"_{}.pth\".format(type))\n",
    "      model.load_state_dict(state_dict)\n",
    "\n",
    "load_saved_parameters(\"lee\")"
   ]
  },
  {
   "cell_type": "markdown",
   "metadata": {
    "colab_type": "text",
    "id": "I303ONMtrjX7"
   },
   "source": [
    "To get a simulated data frame, we use the `DataWrapper.apply_generator(generator, df)` method, which updates columns in `df` with data simulated from `generator` wherever possible. We can therefore chain multiple calls together to build up a fake dataframe from multiple (partial) generators.\n",
    "Similarly, we can add a column with the values of the critic using the `DataWrapper.apply_critic(critic, df)` method.\n",
    "\n",
    "We'll wrap everything into a function so that we can repeat later."
   ]
  },
  {
   "cell_type": "code",
   "execution_count": 32,
   "metadata": {
    "colab": {},
    "colab_type": "code",
    "id": "aiCDHCGO2lZZ"
   },
   "outputs": [],
   "source": [
    "def apply_models_to_data():\n",
    "    s = df.sample(int(1e4),replace=True)\n",
    "    s = data_wrapper1.apply_generator(generator1,s) \n",
    "    dfa = s[s['x']>0].copy()\n",
    "    dfb = s[s['x']<=0].copy() \n",
    "    #first generate x \n",
    "    dfa = data_wrapper2.apply_generator(generator2a,dfa)\n",
    "    dfb = data_wrapper2.apply_generator(generator2b,dfb)\n",
    "    return pd.concat([dfa,dfb],axis=0,ignore_index=True)"
   ]
  },
  {
   "cell_type": "code",
   "execution_count": 33,
   "metadata": {},
   "outputs": [
    {
     "name": "stdout",
     "output_type": "stream",
     "text": [
      "Estimation Equation:\t y ~ TREATED + x\n",
      "0.09168712326674382\n"
     ]
    },
    {
     "data": {
      "text/plain": [
       "<matplotlib.collections.PathCollection at 0x12ded6810>"
      ]
     },
     "execution_count": 33,
     "metadata": {},
     "output_type": "execute_result"
    },
    {
     "data": {
      "image/png": "[encoded data removed]",
      "text/plain": [
       "<Figure size 432x288 with 1 Axes>"
      ]
     },
     "metadata": {
      "needs_background": "light"
     },
     "output_type": "display_data"
    },
    {
     "data": {
      "image/png": "[encoded data removed]",
      "text/plain": [
       "<Figure size 432x288 with 1 Axes>"
      ]
     },
     "metadata": {
      "needs_background": "light"
     },
     "output_type": "display_data"
    }
   ],
   "source": [
    "import matplotlib.pyplot as plt\n",
    "df_fake = apply_models_to_data()\n",
    "print(rdd_estimate(df_fake)) \n",
    "\n",
    "fig=plt.figure() \n",
    "ax=fig.add_axes([0,0,1,1])\n",
    "ax.scatter(dfa['x'],dfa['y'], color='r')\n",
    "ax.scatter(dfb['x'],dfb['y'], color='b')\n",
    "\n",
    "fig2=plt.figure() \n",
    "ax=fig2.add_axes([0,0,1,1])\n",
    "ax.scatter(df_fake.loc[df_fake['x']>0,'x'],df_fake.loc[df_fake['x']>0,'y'], color='r')\n",
    "ax.scatter(df_fake.loc[df_fake['x']<=0,'x'],df_fake.loc[df_fake['x']<=0,'y'], color='b')"
   ]
  },
  {
   "cell_type": "code",
   "execution_count": 14,
   "metadata": {},
   "outputs": [
    {
     "name": "stdout",
     "output_type": "stream",
     "text": [
      "0.6978809707176532\n",
      "0.3465220178467153\n",
      "0.5926358\n",
      "0.3897724\n"
     ]
    }
   ],
   "source": [
    "print(dfa['y'].mean())\n",
    "print(dfb['y'].mean())\n",
    "\n",
    "print(df_fake.loc[df_fake['x']>0,'y'].mean())\n",
    "print(df_fake.loc[df_fake['x']<=0,'y'].mean())"
   ]
  },
  {
   "cell_type": "code",
   "execution_count": 15,
   "metadata": {},
   "outputs": [],
   "source": [
    "def rdd_estimate(data):\n",
    "    bandwidth_opt = rdd.optimal_bandwidth(data['y'], data['x'], cut=0) \n",
    "    data_rdd = rdd.truncated_data(data, 'x', bandwidth_opt, cut=0) \n",
    "    model = rdd.rdd(data_rdd, 'x', 'y', cut=0)\n",
    "    return model.fit().params[1]"
   ]
  },
  {
   "cell_type": "markdown",
   "metadata": {
    "colab_type": "text",
    "id": "O20NAjXC3Zws"
   },
   "source": [
    "Finally, we can examine our generated data with the `compare_dfs` function.\n"
   ]
  },
  {
   "cell_type": "code",
   "execution_count": 25,
   "metadata": {
    "colab": {},
    "colab_type": "code",
    "id": "8V6ds_a7RMzY"
   },
   "outputs": [],
   "source": [
    "def evaluate_results():\n",
    "  # Let's print the att!\n",
    "  print(\"--------------------RDD--------------------\")\n",
    "  print(\"real:\",rdd_estimate(df)) \n",
    "  print(\"fake:\",rdd_estimate(df_fake))\n",
    "\n",
    "  # Now, we'll compare our fake data to the real data\n",
    "  table_groupby = [\"t\"]\n",
    "  scatterplot = dict(x= [\"x\"],\n",
    "                     y= [\"y\"],\n",
    "                     samples = 5000, smooth = 0)\n",
    "  histogram = dict(variables=['x','y','x','y'],\n",
    "                   nrow=2, ncol=2)\n",
    "  wgan.compare_dfs(df, df_fake, figsize=5, histogram=histogram, scatterplot=scatterplot)\n"
   ]
  },
  {
   "cell_type": "code",
   "execution_count": 34,
   "metadata": {
    "colab": {
     "base_uri": "https://localhost:8080/",
     "height": 1000
    },
    "colab_type": "code",
    "id": "U1aEaBrz28Xv",
    "outputId": "cfec271e-09df-4e47-8de3-c94fa0c46f12"
   },
   "outputs": [
    {
     "name": "stdout",
     "output_type": "stream",
     "text": [
      "--------------------RDD--------------------\n",
      "Estimation Equation:\t y ~ TREATED + x\n",
      "real: 0.08522574425161496\n",
      "Estimation Equation:\t y ~ TREATED + x\n",
      "fake: 0.09168712326674382\n",
      "-------------comparison of means-------------\n",
      "source  fake  real\n",
      "x       0.12  0.13\n",
      "y       0.56  0.55\n",
      "-------------comparison of stds-------------\n",
      "source  fake  real\n",
      "x       0.45  0.46\n",
      "y       0.22  0.24\n"
     ]
    },
    {
     "data": {
      "image/png": "[encoded data removed]",
      "text/plain": [
       "<Figure size 720x360 with 2 Axes>"
      ]
     },
     "metadata": {
      "needs_background": "light"
     },
     "output_type": "display_data"
    },
    {
     "data": {
      "image/png": "[encoded data removed]",
      "text/plain": [
       "<Figure size 720x720 with 4 Axes>"
      ]
     },
     "metadata": {
      "needs_background": "light"
     },
     "output_type": "display_data"
    },
    {
     "data": {
      "image/png": "[encoded data removed]",
      "text/plain": [
       "<Figure size 360x360 with 1 Axes>"
      ]
     },
     "metadata": {
      "needs_background": "light"
     },
     "output_type": "display_data"
    }
   ],
   "source": [
    "evaluate_results()"
   ]
  },
  {
   "cell_type": "markdown",
   "metadata": {
    "colab_type": "text",
    "id": "yvccbLta8zAi"
   },
   "source": [
    "Looks good enough? Then save the models, generate a large dataframe and export it."
   ]
  },
  {
   "cell_type": "code",
   "execution_count": 35,
   "metadata": {
    "colab": {},
    "colab_type": "code",
    "id": "wM1LhyLG99po"
   },
   "outputs": [],
   "source": [
    "# save trained model parameters\n",
    "def save_trained_parameters(type):\n",
    "  #%mkdir trained_models\n",
    "  for model, name in zip([generator1,critic1,generator2a,critic2a,generator2b,critic2b], [\"G1\",\"C1\",\"G2a\",\"C2a\",\"G2b\",\"C2b\"]):\n",
    "      torch.save(model.state_dict(), \"trained_models/\" + name + \"_{}.pth\".format(type))"
   ]
  },
  {
   "cell_type": "code",
   "execution_count": 36,
   "metadata": {
    "colab": {},
    "colab_type": "code",
    "id": "TyfDEFycRHZ3"
   },
   "outputs": [],
   "source": [
    "save_trained_parameters(\"lee\")"
   ]
  },
  {
   "cell_type": "code",
   "execution_count": 37,
   "metadata": {
    "colab": {},
    "colab_type": "code",
    "id": "aXTqCRL688Zw"
   },
   "outputs": [],
   "source": [
    "# generate and save data of a certain sample size\n",
    "def save_generated_data(type,n_samples):\n",
    "    s = df.sample(int(n_samples),replace=True)\n",
    "    s = data_wrapper1.apply_generator(generator1,s) \n",
    "    #print(s.head())\n",
    "    dfa = s[s['x']>0]\n",
    "    dfb = s[s['x']<0]\n",
    "    #print(dfb.shape)\n",
    "    #first generate x \n",
    "    dfa = data_wrapper2.apply_generator(generator2a,dfa)\n",
    "    dfb = data_wrapper2.apply_generator(generator2b,dfb)\n",
    "    df_fake = pd.concat([dfa,dfb],axis=0,ignore_index=True)\n",
    "    df_fake.to_feather(\"data/generated/{}_generated.feather\".format(type))"
   ]
  },
  {
   "cell_type": "code",
   "execution_count": 38,
   "metadata": {
    "colab": {},
    "colab_type": "code",
    "id": "Lj8mrJfERiKX"
   },
   "outputs": [],
   "source": [
    "save_generated_data(\"lee\",int(1e7))"
   ]
  },
  {
   "cell_type": "code",
   "execution_count": null,
   "metadata": {},
   "outputs": [],
   "source": []
  }
 ],
 "metadata": {
  "accelerator": "GPU",
  "colab": {
   "collapsed_sections": [],
   "machine_shape": "hm",
   "name": "RDD_tutorial.ipynb",
   "provenance": []
  },
  "kernelspec": {
   "display_name": "Python 3",
   "language": "python",
   "name": "python3"
  },
  "language_info": {
   "codemirror_mode": {
    "name": "ipython",
    "version": 3
   },
   "file_extension": ".py",
   "mimetype": "text/x-python",
   "name": "python",
   "nbconvert_exporter": "python",
   "pygments_lexer": "ipython3",
   "version": "3.7.4"
  }
 },
 "nbformat": 4,
 "nbformat_minor": 1
}
